{
 "cells": [
  {
   "cell_type": "code",
   "execution_count": 50,
   "metadata": {},
   "outputs": [],
   "source": [
    "%reload_ext autoreload\n",
    "%autoreload 2\n",
    "from airflow.hooks import S3Hook\n",
    "s3_conn = S3Hook().get_conn()\n",
    "from skills_ml.datasets.job_postings import job_postings, job_postings_chain\n",
    "import random\n",
    "import json\n",
    "from skills_ml.algorithms.corpus_creators.basic import Doc2VecGensimCorpusCreator, CorpusCreator\n",
    "from collections import Counter\n",
    "import numpy as np\n",
    "from skills_ml.algorithms.sampling.jobs import JobSampler"
   ]
  },
  {
   "cell_type": "code",
   "execution_count": 45,
   "metadata": {},
   "outputs": [
    {
     "name": "stdout",
     "output_type": "stream",
     "text": [
      "[2017-11-01 18:40:07,232] {utils.py:267} INFO - loading Doc2Vec object from tmp/gensim_doc2vec_va_0605\n",
      "[2017-11-01 18:40:08,802] {utils.py:289} INFO - loading docvecs recursively from tmp/gensim_doc2vec_va_0605.docvecs.* with mmap=None\n",
      "[2017-11-01 18:40:08,803] {utils.py:294} INFO - loading doctag_syn0 from tmp/gensim_doc2vec_va_0605.docvecs.doctag_syn0.npy with mmap=None\n",
      "[2017-11-01 18:40:09,091] {utils.py:294} INFO - loading syn1 from tmp/gensim_doc2vec_va_0605.syn1.npy with mmap=None\n",
      "[2017-11-01 18:40:09,320] {utils.py:294} INFO - loading syn0 from tmp/gensim_doc2vec_va_0605.syn0.npy with mmap=None\n",
      "[2017-11-01 18:40:09,629] {utils.py:326} INFO - setting ignored attribute syn0norm to None\n",
      "[2017-11-01 18:40:09,631] {utils.py:326} INFO - setting ignored attribute cum_table to None\n",
      "[2017-11-01 18:40:09,632] {utils.py:273} INFO - loaded tmp/gensim_doc2vec_va_0605\n"
     ]
    }
   ],
   "source": [
    "from skills_ml.algorithms.occupation_classifiers.base import VectorModel\n",
    "embedding_model = VectorModel(s3_conn=s3_conn)"
   ]
  },
  {
   "cell_type": "markdown",
   "metadata": {},
   "source": [
    "# Streaming Data to Create Corpus"
   ]
  },
  {
   "cell_type": "markdown",
   "metadata": {},
   "source": [
    "## Simple Corpus"
   ]
  },
  {
   "cell_type": "code",
   "execution_count": 55,
   "metadata": {
    "collapsed": true
   },
   "outputs": [],
   "source": [
    "job_postings_generator = job_postings_chain(s3_conn, ['2011Q2'], 'open-skills-private/test_corpus')\n",
    "corpus = CorpusCreator(job_postings_generator)"
   ]
  },
  {
   "cell_type": "code",
   "execution_count": 56,
   "metadata": {},
   "outputs": [
    {
     "name": "stdout",
     "output_type": "stream",
     "text": [
      "[2017-11-01 18:41:27,681] {job_postings.py:36} INFO - Extracting job postings from key test_corpus/2011Q2/\n",
      "[2017-11-01 18:41:27,752] {s3.py:83} INFO - 0 bytes transferred out of 0 total\n",
      "[2017-11-01 18:41:27,754] {job_postings.py:36} INFO - Extracting job postings from key test_corpus/2011Q2/CB_6874581a-5942-48fd-ba7e-2b1cdc38563f\n",
      "[2017-11-01 18:41:27,823] {s3.py:83} INFO - 0 bytes transferred out of 18588132 total\n",
      "[2017-11-01 18:41:28,485] {s3.py:83} INFO - 2072576 bytes transferred out of 18588132 total\n",
      "[2017-11-01 18:41:28,724] {s3.py:83} INFO - 4145152 bytes transferred out of 18588132 total\n",
      "[2017-11-01 18:41:28,922] {s3.py:83} INFO - 6217728 bytes transferred out of 18588132 total\n",
      "[2017-11-01 18:41:29,082] {s3.py:83} INFO - 8290304 bytes transferred out of 18588132 total\n",
      "[2017-11-01 18:41:29,237] {s3.py:83} INFO - 10362880 bytes transferred out of 18588132 total\n",
      "[2017-11-01 18:41:29,411] {s3.py:83} INFO - 12435456 bytes transferred out of 18588132 total\n",
      "[2017-11-01 18:41:29,551] {s3.py:83} INFO - 14508032 bytes transferred out of 18588132 total\n",
      "[2017-11-01 18:41:29,769] {s3.py:83} INFO - 16580608 bytes transferred out of 18588132 total\n",
      "[2017-11-01 18:41:29,978] {s3.py:83} INFO - 18588132 bytes transferred out of 18588132 total\n"
     ]
    },
    {
     "name": "stderr",
     "output_type": "stream",
     "text": [
      "/Users/Eddie/Documents/DSSG/WDI/skills-ml/venv/lib/python3.5/site-packages/bs4/__init__.py:219: UserWarning: \"b'.'\" looks like a filename, not markup. You should probably open this file and pass the filehandle into Beautiful Soup.\n",
      "  ' Beautiful Soup.' % markup)\n"
     ]
    },
    {
     "name": "stdout",
     "output_type": "stream",
     "text": [
      "[2017-11-01 18:41:41,622] {job_postings.py:36} INFO - Extracting job postings from key test_corpus/2011Q2/NLX_b8384025-fa09-417d-ae10-96880fac86be\n",
      "[2017-11-01 18:41:42,604] {s3.py:83} INFO - 0 bytes transferred out of 20171705 total\n",
      "[2017-11-01 18:41:43,217] {s3.py:83} INFO - 2244608 bytes transferred out of 20171705 total\n",
      "[2017-11-01 18:41:43,369] {s3.py:83} INFO - 4489216 bytes transferred out of 20171705 total\n",
      "[2017-11-01 18:41:43,573] {s3.py:83} INFO - 6733824 bytes transferred out of 20171705 total\n",
      "[2017-11-01 18:41:43,779] {s3.py:83} INFO - 8978432 bytes transferred out of 20171705 total\n",
      "[2017-11-01 18:41:43,933] {s3.py:83} INFO - 11223040 bytes transferred out of 20171705 total\n",
      "[2017-11-01 18:41:44,121] {s3.py:83} INFO - 13467648 bytes transferred out of 20171705 total\n",
      "[2017-11-01 18:41:44,316] {s3.py:83} INFO - 15712256 bytes transferred out of 20171705 total\n",
      "[2017-11-01 18:41:44,550] {s3.py:83} INFO - 17956864 bytes transferred out of 20171705 total\n",
      "[2017-11-01 18:41:44,728] {s3.py:83} INFO - 20171705 bytes transferred out of 20171705 total\n",
      "[2017-11-01 18:42:00,638] {job_postings.py:36} INFO - Extracting job postings from key test_corpus/2011Q2/VA_c3b9dad2-ef6c-4439-a4e7-6dff0a55d362\n",
      "[2017-11-01 18:42:01,922] {s3.py:83} INFO - 0 bytes transferred out of 228604 total\n",
      "[2017-11-01 18:42:01,979] {s3.py:83} INFO - 32768 bytes transferred out of 228604 total\n",
      "[2017-11-01 18:42:02,088] {s3.py:83} INFO - 65536 bytes transferred out of 228604 total\n",
      "[2017-11-01 18:42:02,093] {s3.py:83} INFO - 98304 bytes transferred out of 228604 total\n",
      "[2017-11-01 18:42:02,148] {s3.py:83} INFO - 131072 bytes transferred out of 228604 total\n",
      "[2017-11-01 18:42:02,150] {s3.py:83} INFO - 163840 bytes transferred out of 228604 total\n",
      "[2017-11-01 18:42:02,200] {s3.py:83} INFO - 196608 bytes transferred out of 228604 total\n",
      "[2017-11-01 18:42:02,205] {s3.py:83} INFO - 228604 bytes transferred out of 228604 total\n"
     ]
    }
   ],
   "source": [
    "corpus = list(corpus)"
   ]
  },
  {
   "cell_type": "code",
   "execution_count": 57,
   "metadata": {},
   "outputs": [
    {
     "data": {
      "text/plain": [
       "10567"
      ]
     },
     "execution_count": 57,
     "metadata": {},
     "output_type": "execute_result"
    }
   ],
   "source": [
    "len(corpus)"
   ]
  },
  {
   "cell_type": "code",
   "execution_count": 58,
   "metadata": {},
   "outputs": [
    {
     "data": {
      "text/plain": [
       "{'@context': 'http://schema.org',\n",
       " '@type': 'JobPosting',\n",
       " 'alternateName': 'Payroll Specialist',\n",
       " 'baseSalary': {'@type': 'MonetaryAmount', 'maxValue': 0.0, 'minValue': 0.0},\n",
       " 'datePosted': '2012-06-20',\n",
       " 'description': 'Position Summary: The Payroll Specialist is responsible for processing all payroll information for accurate and timely payroll distribution. Responsibilities: Process store-level biweekly payroll accurately and timely Import store employee info and time clock data Research and resolve employee payroll issues Process involuntary wage withholding correspondence Respond promptly to all requests and communications received Review and process adjustments to hours/earnings Maintain employee direct deposit records Assist with various projects as assigned GREAT OPPORTUNITY!',\n",
       " 'educationRequirements': 'Graduate Degree',\n",
       " 'employmentType': 'Full-Time',\n",
       " 'experienceRequirements': 'Qualifications: 1-3 years of general payroll experience Positive attitude combined with excellent communication skills Possess the ability to work well under pressure and meet deadlines Must be detail oriented with strong organization skills Possess general knowledge of involuntary wage deductions and federal and multistate payroll tax laws Ability to work with minimal supervision, prioritize tasks and maintain confidentiality Dedicated to providing an accurate payroll product in a team environment Excellent attendance history Experience Preferred: · High School education · Multi-unit or restaurant payroll experience is a plus · ADP Payforce and ADP Reporting experience is a plus · Microsoft Office Suite',\n",
       " 'id': 'CB_159324388',\n",
       " 'incentiveCompensation': '',\n",
       " 'industry': 'Accounting - Finance, Full Service Restaurant, Food',\n",
       " 'jobLocation': {'@type': 'Place',\n",
       "  'address': {'@type': 'PostalAddress',\n",
       "   'addressLocality': 'Farmers Branch',\n",
       "   'addressRegion': 'TX'}},\n",
       " 'occupationalCategory': '',\n",
       " 'onet_soc_code': None,\n",
       " 'qualifications': 'Qualifications: 1-3 years of general payroll experience Positive attitude combined with excellent communication skills Possess the ability to work well under pressure and meet deadlines Must be detail oriented with strong organization skills Possess general knowledge of involuntary wage deductions and federal and multistate payroll tax laws Ability to work with minimal supervision, prioritize tasks and maintain confidentiality Dedicated to providing an accurate payroll product in a team environment Excellent attendance history Experience Preferred: · High School education · Multi-unit or restaurant payroll experience is a plus · ADP Payforce and ADP Reporting experience is a plus · Microsoft Office Suite',\n",
       " 'skills': 'Finance, Restaurant - Food Service, Accounting',\n",
       " 'title': 'Payroll Specialist',\n",
       " 'validThrough': '2012-07-20T00:00:00'}"
      ]
     },
     "execution_count": 58,
     "metadata": {},
     "output_type": "execute_result"
    }
   ],
   "source": [
    "corpus[0]"
   ]
  },
  {
   "cell_type": "markdown",
   "metadata": {},
   "source": [
    "## Creating Corpus with Criteria"
   ]
  },
  {
   "cell_type": "markdown",
   "metadata": {},
   "source": [
    "#### One can define their own funciton and logic of filtering based on the common schema."
   ]
  },
  {
   "cell_type": "code",
   "execution_count": 59,
   "metadata": {
    "collapsed": true
   },
   "outputs": [],
   "source": [
    "def major_group_filter_func(document):\n",
    "    if document['onet_soc_code']:\n",
    "        if document['onet_soc_code'][:2] in ['11', '13']:\n",
    "            return document\n",
    "\n",
    "def full_soc_code_filter_func(document):\n",
    "    if document['onet_soc_code']:\n",
    "        if document['onet_soc_code'] in ['11-9051.00', '17-3026.00']:\n",
    "            return document\n",
    "\n",
    "def wage_filter_func(document):\n",
    "    if document['baseSalary']['minValue']:\n",
    "        if float(document['baseSalary']['minValue']) >= 60000.0:\n",
    "            return document"
   ]
  },
  {
   "cell_type": "markdown",
   "metadata": {},
   "source": [
    "### Filtered by Major Groups"
   ]
  },
  {
   "cell_type": "code",
   "execution_count": 60,
   "metadata": {
    "collapsed": true
   },
   "outputs": [],
   "source": [
    "job_postings_generator = job_postings_chain(s3_conn, ['2011Q2'], 'open-skills-private/test_corpus')\n",
    "corpus = CorpusCreator(job_postings_generator, filter_func=major_group_filter_func)"
   ]
  },
  {
   "cell_type": "code",
   "execution_count": 61,
   "metadata": {},
   "outputs": [
    {
     "name": "stdout",
     "output_type": "stream",
     "text": [
      "[2017-11-01 18:42:03,267] {job_postings.py:36} INFO - Extracting job postings from key test_corpus/2011Q2/\n",
      "[2017-11-01 18:42:03,335] {s3.py:83} INFO - 0 bytes transferred out of 0 total\n",
      "[2017-11-01 18:42:03,337] {job_postings.py:36} INFO - Extracting job postings from key test_corpus/2011Q2/CB_6874581a-5942-48fd-ba7e-2b1cdc38563f\n",
      "[2017-11-01 18:42:03,415] {s3.py:83} INFO - 0 bytes transferred out of 18588132 total\n",
      "[2017-11-01 18:42:04,050] {s3.py:83} INFO - 2072576 bytes transferred out of 18588132 total\n",
      "[2017-11-01 18:42:04,337] {s3.py:83} INFO - 4145152 bytes transferred out of 18588132 total\n",
      "[2017-11-01 18:42:04,597] {s3.py:83} INFO - 6217728 bytes transferred out of 18588132 total\n",
      "[2017-11-01 18:42:04,743] {s3.py:83} INFO - 8290304 bytes transferred out of 18588132 total\n",
      "[2017-11-01 18:42:04,920] {s3.py:83} INFO - 10362880 bytes transferred out of 18588132 total\n",
      "[2017-11-01 18:42:05,132] {s3.py:83} INFO - 12435456 bytes transferred out of 18588132 total\n",
      "[2017-11-01 18:42:05,377] {s3.py:83} INFO - 14508032 bytes transferred out of 18588132 total\n",
      "[2017-11-01 18:42:05,758] {s3.py:83} INFO - 16580608 bytes transferred out of 18588132 total\n",
      "[2017-11-01 18:42:06,228] {s3.py:83} INFO - 18588132 bytes transferred out of 18588132 total\n"
     ]
    },
    {
     "name": "stderr",
     "output_type": "stream",
     "text": [
      "/Users/Eddie/Documents/DSSG/WDI/skills-ml/venv/lib/python3.5/site-packages/bs4/__init__.py:219: UserWarning: \"b'.'\" looks like a filename, not markup. You should probably open this file and pass the filehandle into Beautiful Soup.\n",
      "  ' Beautiful Soup.' % markup)\n"
     ]
    },
    {
     "name": "stdout",
     "output_type": "stream",
     "text": [
      "[2017-11-01 18:42:06,705] {job_postings.py:36} INFO - Extracting job postings from key test_corpus/2011Q2/NLX_b8384025-fa09-417d-ae10-96880fac86be\n",
      "[2017-11-01 18:42:06,880] {s3.py:83} INFO - 0 bytes transferred out of 20171705 total\n",
      "[2017-11-01 18:42:07,706] {s3.py:83} INFO - 2244608 bytes transferred out of 20171705 total\n",
      "[2017-11-01 18:42:08,234] {s3.py:83} INFO - 4489216 bytes transferred out of 20171705 total\n",
      "[2017-11-01 18:42:08,757] {s3.py:83} INFO - 6733824 bytes transferred out of 20171705 total\n",
      "[2017-11-01 18:42:09,292] {s3.py:83} INFO - 8978432 bytes transferred out of 20171705 total\n",
      "[2017-11-01 18:42:09,810] {s3.py:83} INFO - 11223040 bytes transferred out of 20171705 total\n",
      "[2017-11-01 18:42:10,419] {s3.py:83} INFO - 13467648 bytes transferred out of 20171705 total\n",
      "[2017-11-01 18:42:10,926] {s3.py:83} INFO - 15712256 bytes transferred out of 20171705 total\n",
      "[2017-11-01 18:42:11,343] {s3.py:83} INFO - 17956864 bytes transferred out of 20171705 total\n",
      "[2017-11-01 18:42:11,646] {s3.py:83} INFO - 20171705 bytes transferred out of 20171705 total\n",
      "[2017-11-01 18:42:12,509] {job_postings.py:36} INFO - Extracting job postings from key test_corpus/2011Q2/VA_c3b9dad2-ef6c-4439-a4e7-6dff0a55d362\n",
      "[2017-11-01 18:42:12,581] {s3.py:83} INFO - 0 bytes transferred out of 228604 total\n",
      "[2017-11-01 18:42:12,589] {s3.py:83} INFO - 32768 bytes transferred out of 228604 total\n",
      "[2017-11-01 18:42:12,636] {s3.py:83} INFO - 65536 bytes transferred out of 228604 total\n",
      "[2017-11-01 18:42:12,644] {s3.py:83} INFO - 98304 bytes transferred out of 228604 total\n",
      "[2017-11-01 18:42:12,646] {s3.py:83} INFO - 131072 bytes transferred out of 228604 total\n",
      "[2017-11-01 18:42:12,691] {s3.py:83} INFO - 163840 bytes transferred out of 228604 total\n",
      "[2017-11-01 18:42:12,701] {s3.py:83} INFO - 196608 bytes transferred out of 228604 total\n",
      "[2017-11-01 18:42:12,703] {s3.py:83} INFO - 228604 bytes transferred out of 228604 total\n"
     ]
    }
   ],
   "source": [
    "corpus = list(corpus)"
   ]
  },
  {
   "cell_type": "code",
   "execution_count": 65,
   "metadata": {},
   "outputs": [
    {
     "data": {
      "text/plain": [
       "{'@context': 'http://schema.org',\n",
       " '@type': 'JobPosting',\n",
       " 'alternateName': 'General Manager',\n",
       " 'baseSalary': {'@type': 'MonetaryAmount', 'maxValue': 0.0, 'minValue': 0.0},\n",
       " 'datePosted': '2012-09-17',\n",
       " 'description': 'If you are a personable, outgoing and service-oriented professional who wants to manage a dynamic office, come join the Kool Smiles family! Kool Smiles was founded in 2002 and was built on the belief that every family has the right to quality dental care in a clean, safe and fun environment. Our first goal is to provide quality and compliant dental care to individuals in communities that typically get overlooked by other dentists. Our services aren’t just for kids- we know that children are more likely to have great dental habits if mom and dad do too, so we happily care for the entire family. Kool Smiles is looking for a customer-service-oriented leader to fill the role of Office Manager. As the Office Manager, you will manage an office staff of 15 to 30 employees and provide a friendly environment for the numerous patients who come to us for dental care. Job Responsibilities As the Office Manager for Kool Smiles, you will interview and hire new employees as well as coach and counsel existing staff. You will also develop a team atmosphere among office staff and encourage them to perform at their highest level. You will also handle a wide range of organizational and supervisory duties, including: • Ensuring outstanding patient satisfaction • Ensuring compliance standards are met at all times • Achieving office level financial performance targets • Scheduling staff and conducting performance-management programs • Promoting Kool Smiles brand throughout community via local marketing efforts • Maintaining the appearance and overall efficiency of the office Job Requirements As the Manager, you will be the public face of Kool Smiles. You must be professional in your appearance and manner and be able to interact well with children as they comprise approximately 80% of our patients. You must also have excellent problem-solving and verbal and written communication skills. Specific qualifications for the Office Manager position include: • Minimum 5 years experience managing 10 or more direct reports in a customer-service-focused role, preferably in a retail, hospitality, restaurant or medical setting where you had direct and face-to-face interaction with customers • Proficiency with Microsoft Office Suite • Demonstrated ability to drive business results • Public-service experience is a plus, as many of our patients are children from low-income families in medically underserved communities • Bachelor’s degree is preferred, but not required Benefits At Kool Smiles, you will begin your role as Office Manager with a two-week training course in Atlanta. You will also have the opportunity to advance to positions such as District Manager, Area Business Leader, and Certified Office Manager (which involves setting-up and training staff for new Kool Smiles offices.) Additional benefits include: • Medical and dental insurance • 401(k) • Short-term and long-term disability • Bonus plan based on the performance of the office • Paid vacation • Paid holidays Take on a new challenge and make a positive community impact! Apply today!',\n",
       " 'educationRequirements': 'Not Specified',\n",
       " 'employmentType': 'Full-Time',\n",
       " 'experienceRequirements': '#',\n",
       " 'id': 'CB_757175032',\n",
       " 'incentiveCompensation': '',\n",
       " 'industry': 'Healthcare - Health Services, Retail, Food',\n",
       " 'jobLocation': {'@type': 'Place',\n",
       "  'address': {'@type': 'PostalAddress',\n",
       "   'addressLocality': 'Lafayette',\n",
       "   'addressRegion': 'IN'}},\n",
       " 'occupationalCategory': 'Food Service Managers',\n",
       " 'onet_soc_code': '11-9051.00',\n",
       " 'qualifications': '#',\n",
       " 'skills': 'Retail, Management, Health Care',\n",
       " 'title': 'General Manager seeking change-No Late Nights/Sundays',\n",
       " 'validThrough': '2012-11-19T00:00:00'}"
      ]
     },
     "execution_count": 65,
     "metadata": {},
     "output_type": "execute_result"
    }
   ],
   "source": [
    "corpus[0]"
   ]
  },
  {
   "cell_type": "code",
   "execution_count": 66,
   "metadata": {
    "collapsed": true
   },
   "outputs": [],
   "source": [
    "major_group = list(map(lambda c: c['onet_soc_code'][:2], corpus))"
   ]
  },
  {
   "cell_type": "code",
   "execution_count": 67,
   "metadata": {},
   "outputs": [
    {
     "data": {
      "text/plain": [
       "Counter({'11': 283, '13': 102})"
      ]
     },
     "execution_count": 67,
     "metadata": {},
     "output_type": "execute_result"
    }
   ],
   "source": [
    "Counter(major_group)"
   ]
  },
  {
   "cell_type": "markdown",
   "metadata": {},
   "source": [
    "### Filtered by Full O*NET SOC Code"
   ]
  },
  {
   "cell_type": "code",
   "execution_count": 68,
   "metadata": {
    "collapsed": true
   },
   "outputs": [],
   "source": [
    "job_postings_generator = job_postings_chain(s3_conn, ['2011Q2'], 'open-skills-private/test_corpus')\n",
    "corpus = CorpusCreator(job_postings_generator, filter_func=full_soc_code_filter_func)"
   ]
  },
  {
   "cell_type": "code",
   "execution_count": 69,
   "metadata": {},
   "outputs": [
    {
     "name": "stdout",
     "output_type": "stream",
     "text": [
      "[2017-11-01 18:54:59,095] {job_postings.py:36} INFO - Extracting job postings from key test_corpus/2011Q2/\n",
      "[2017-11-01 18:54:59,188] {s3.py:83} INFO - 0 bytes transferred out of 0 total\n",
      "[2017-11-01 18:54:59,190] {job_postings.py:36} INFO - Extracting job postings from key test_corpus/2011Q2/CB_6874581a-5942-48fd-ba7e-2b1cdc38563f\n",
      "[2017-11-01 18:54:59,376] {s3.py:83} INFO - 0 bytes transferred out of 18588132 total\n",
      "[2017-11-01 18:55:00,001] {s3.py:83} INFO - 2072576 bytes transferred out of 18588132 total\n",
      "[2017-11-01 18:55:00,263] {s3.py:83} INFO - 4145152 bytes transferred out of 18588132 total\n",
      "[2017-11-01 18:55:00,439] {s3.py:83} INFO - 6217728 bytes transferred out of 18588132 total\n",
      "[2017-11-01 18:55:00,634] {s3.py:83} INFO - 8290304 bytes transferred out of 18588132 total\n",
      "[2017-11-01 18:55:00,854] {s3.py:83} INFO - 10362880 bytes transferred out of 18588132 total\n",
      "[2017-11-01 18:55:01,078] {s3.py:83} INFO - 12435456 bytes transferred out of 18588132 total\n",
      "[2017-11-01 18:55:01,310] {s3.py:83} INFO - 14508032 bytes transferred out of 18588132 total\n",
      "[2017-11-01 18:55:01,524] {s3.py:83} INFO - 16580608 bytes transferred out of 18588132 total\n",
      "[2017-11-01 18:55:01,677] {s3.py:83} INFO - 18588132 bytes transferred out of 18588132 total\n",
      "[2017-11-01 18:55:02,033] {job_postings.py:36} INFO - Extracting job postings from key test_corpus/2011Q2/NLX_b8384025-fa09-417d-ae10-96880fac86be\n",
      "[2017-11-01 18:55:02,157] {s3.py:83} INFO - 0 bytes transferred out of 20171705 total\n"
     ]
    },
    {
     "name": "stderr",
     "output_type": "stream",
     "text": [
      "/Users/Eddie/Documents/DSSG/WDI/skills-ml/venv/lib/python3.5/site-packages/bs4/__init__.py:219: UserWarning: \"b'.'\" looks like a filename, not markup. You should probably open this file and pass the filehandle into Beautiful Soup.\n",
      "  ' Beautiful Soup.' % markup)\n"
     ]
    },
    {
     "name": "stdout",
     "output_type": "stream",
     "text": [
      "[2017-11-01 18:55:02,329] {s3.py:83} INFO - 2244608 bytes transferred out of 20171705 total\n",
      "[2017-11-01 18:55:02,494] {s3.py:83} INFO - 4489216 bytes transferred out of 20171705 total\n",
      "[2017-11-01 18:55:02,683] {s3.py:83} INFO - 6733824 bytes transferred out of 20171705 total\n",
      "[2017-11-01 18:55:02,843] {s3.py:83} INFO - 8978432 bytes transferred out of 20171705 total\n",
      "[2017-11-01 18:55:03,002] {s3.py:83} INFO - 11223040 bytes transferred out of 20171705 total\n",
      "[2017-11-01 18:55:03,168] {s3.py:83} INFO - 13467648 bytes transferred out of 20171705 total\n",
      "[2017-11-01 18:55:03,316] {s3.py:83} INFO - 15712256 bytes transferred out of 20171705 total\n",
      "[2017-11-01 18:55:03,446] {s3.py:83} INFO - 17956864 bytes transferred out of 20171705 total\n",
      "[2017-11-01 18:55:03,609] {s3.py:83} INFO - 20171705 bytes transferred out of 20171705 total\n",
      "[2017-11-01 18:55:03,963] {job_postings.py:36} INFO - Extracting job postings from key test_corpus/2011Q2/VA_c3b9dad2-ef6c-4439-a4e7-6dff0a55d362\n",
      "[2017-11-01 18:55:04,106] {s3.py:83} INFO - 0 bytes transferred out of 228604 total\n",
      "[2017-11-01 18:55:04,108] {s3.py:83} INFO - 32768 bytes transferred out of 228604 total\n",
      "[2017-11-01 18:55:04,110] {s3.py:83} INFO - 65536 bytes transferred out of 228604 total\n",
      "[2017-11-01 18:55:04,112] {s3.py:83} INFO - 98304 bytes transferred out of 228604 total\n",
      "[2017-11-01 18:55:04,135] {s3.py:83} INFO - 131072 bytes transferred out of 228604 total\n",
      "[2017-11-01 18:55:04,136] {s3.py:83} INFO - 163840 bytes transferred out of 228604 total\n",
      "[2017-11-01 18:55:04,138] {s3.py:83} INFO - 196608 bytes transferred out of 228604 total\n",
      "[2017-11-01 18:55:04,139] {s3.py:83} INFO - 228604 bytes transferred out of 228604 total\n"
     ]
    }
   ],
   "source": [
    "corpus = list(corpus)"
   ]
  },
  {
   "cell_type": "code",
   "execution_count": 70,
   "metadata": {
    "collapsed": true
   },
   "outputs": [],
   "source": [
    "soc = list(map(lambda c: c['onet_soc_code'], corpus))"
   ]
  },
  {
   "cell_type": "code",
   "execution_count": 71,
   "metadata": {},
   "outputs": [
    {
     "data": {
      "text/plain": [
       "Counter({'11-9051.00': 79, '17-3026.00': 65})"
      ]
     },
     "execution_count": 71,
     "metadata": {},
     "output_type": "execute_result"
    }
   ],
   "source": [
    "Counter(soc)"
   ]
  },
  {
   "cell_type": "markdown",
   "metadata": {},
   "source": [
    "### Filtered by Minimum Wage >= 60000"
   ]
  },
  {
   "cell_type": "code",
   "execution_count": 72,
   "metadata": {
    "collapsed": true
   },
   "outputs": [],
   "source": [
    "job_postings_generator = job_postings_chain(s3_conn, ['2011Q2'], 'open-skills-private/test_corpus')\n",
    "corpus = CorpusCreator(job_postings_generator, filter_func=wage_filter_func)"
   ]
  },
  {
   "cell_type": "code",
   "execution_count": 73,
   "metadata": {},
   "outputs": [
    {
     "name": "stdout",
     "output_type": "stream",
     "text": [
      "[2017-11-01 18:55:04,756] {job_postings.py:36} INFO - Extracting job postings from key test_corpus/2011Q2/\n",
      "[2017-11-01 18:55:04,860] {s3.py:83} INFO - 0 bytes transferred out of 0 total\n",
      "[2017-11-01 18:55:04,862] {job_postings.py:36} INFO - Extracting job postings from key test_corpus/2011Q2/CB_6874581a-5942-48fd-ba7e-2b1cdc38563f\n",
      "[2017-11-01 18:55:05,036] {s3.py:83} INFO - 0 bytes transferred out of 18588132 total\n",
      "[2017-11-01 18:55:05,415] {s3.py:83} INFO - 2072576 bytes transferred out of 18588132 total\n",
      "[2017-11-01 18:55:05,572] {s3.py:83} INFO - 4145152 bytes transferred out of 18588132 total\n",
      "[2017-11-01 18:55:05,726] {s3.py:83} INFO - 6217728 bytes transferred out of 18588132 total\n",
      "[2017-11-01 18:55:05,896] {s3.py:83} INFO - 8290304 bytes transferred out of 18588132 total\n",
      "[2017-11-01 18:55:06,105] {s3.py:83} INFO - 10362880 bytes transferred out of 18588132 total\n",
      "[2017-11-01 18:55:06,280] {s3.py:83} INFO - 12435456 bytes transferred out of 18588132 total\n",
      "[2017-11-01 18:55:06,410] {s3.py:83} INFO - 14508032 bytes transferred out of 18588132 total\n",
      "[2017-11-01 18:55:06,550] {s3.py:83} INFO - 16580608 bytes transferred out of 18588132 total\n",
      "[2017-11-01 18:55:06,666] {s3.py:83} INFO - 18588132 bytes transferred out of 18588132 total\n",
      "[2017-11-01 18:55:06,957] {job_postings.py:36} INFO - Extracting job postings from key test_corpus/2011Q2/NLX_b8384025-fa09-417d-ae10-96880fac86be\n",
      "[2017-11-01 18:55:07,075] {s3.py:83} INFO - 0 bytes transferred out of 20171705 total\n",
      "[2017-11-01 18:55:07,255] {s3.py:83} INFO - 2244608 bytes transferred out of 20171705 total\n",
      "[2017-11-01 18:55:07,429] {s3.py:83} INFO - 4489216 bytes transferred out of 20171705 total\n",
      "[2017-11-01 18:55:07,635] {s3.py:83} INFO - 6733824 bytes transferred out of 20171705 total\n",
      "[2017-11-01 18:55:07,813] {s3.py:83} INFO - 8978432 bytes transferred out of 20171705 total\n",
      "[2017-11-01 18:55:07,990] {s3.py:83} INFO - 11223040 bytes transferred out of 20171705 total\n",
      "[2017-11-01 18:55:08,163] {s3.py:83} INFO - 13467648 bytes transferred out of 20171705 total\n",
      "[2017-11-01 18:55:08,301] {s3.py:83} INFO - 15712256 bytes transferred out of 20171705 total\n",
      "[2017-11-01 18:55:08,469] {s3.py:83} INFO - 17956864 bytes transferred out of 20171705 total\n",
      "[2017-11-01 18:55:08,614] {s3.py:83} INFO - 20171705 bytes transferred out of 20171705 total\n",
      "[2017-11-01 18:55:08,816] {job_postings.py:36} INFO - Extracting job postings from key test_corpus/2011Q2/VA_c3b9dad2-ef6c-4439-a4e7-6dff0a55d362\n",
      "[2017-11-01 18:55:08,911] {s3.py:83} INFO - 0 bytes transferred out of 228604 total\n",
      "[2017-11-01 18:55:08,913] {s3.py:83} INFO - 32768 bytes transferred out of 228604 total\n",
      "[2017-11-01 18:55:08,915] {s3.py:83} INFO - 65536 bytes transferred out of 228604 total\n",
      "[2017-11-01 18:55:08,916] {s3.py:83} INFO - 98304 bytes transferred out of 228604 total\n",
      "[2017-11-01 18:55:08,918] {s3.py:83} INFO - 131072 bytes transferred out of 228604 total\n",
      "[2017-11-01 18:55:08,919] {s3.py:83} INFO - 163840 bytes transferred out of 228604 total\n",
      "[2017-11-01 18:55:08,921] {s3.py:83} INFO - 196608 bytes transferred out of 228604 total\n",
      "[2017-11-01 18:55:08,922] {s3.py:83} INFO - 228604 bytes transferred out of 228604 total\n"
     ]
    }
   ],
   "source": [
    "corpus = list(corpus)"
   ]
  },
  {
   "cell_type": "code",
   "execution_count": 74,
   "metadata": {
    "collapsed": true
   },
   "outputs": [],
   "source": [
    "min_wage = list(map(lambda c: c['baseSalary']['minValue'], corpus))"
   ]
  },
  {
   "cell_type": "code",
   "execution_count": 75,
   "metadata": {},
   "outputs": [
    {
     "data": {
      "text/plain": [
       "Counter({60000.0: 8,\n",
       "         65000.0: 10,\n",
       "         70000.0: 4,\n",
       "         71110: 1,\n",
       "         75000.0: 5,\n",
       "         80000.0: 10,\n",
       "         83221: 1,\n",
       "         85000.0: 1,\n",
       "         90000.0: 12,\n",
       "         100000.0: 2,\n",
       "         120000.0: 3,\n",
       "         160000.0: 1})"
      ]
     },
     "execution_count": 75,
     "metadata": {},
     "output_type": "execute_result"
    }
   ],
   "source": [
    "Counter(min_wage)"
   ]
  },
  {
   "cell_type": "markdown",
   "metadata": {},
   "source": [
    "# Sampling from Corpus"
   ]
  },
  {
   "cell_type": "markdown",
   "metadata": {},
   "source": [
    "## Sampling from simple corpus"
   ]
  },
  {
   "cell_type": "code",
   "execution_count": 76,
   "metadata": {
    "collapsed": true
   },
   "outputs": [],
   "source": [
    "job_postings_generator = job_postings_chain(s3_conn, ['2011Q2'], 'open-skills-private/test_corpus')\n",
    "corpus = CorpusCreator(job_postings_generator)"
   ]
  },
  {
   "cell_type": "code",
   "execution_count": 77,
   "metadata": {},
   "outputs": [
    {
     "name": "stdout",
     "output_type": "stream",
     "text": [
      "[2017-11-01 19:38:58,303] {job_postings.py:36} INFO - Extracting job postings from key test_corpus/2011Q2/\n",
      "[2017-11-01 19:38:58,479] {s3.py:83} INFO - 0 bytes transferred out of 0 total\n",
      "[2017-11-01 19:38:58,481] {job_postings.py:36} INFO - Extracting job postings from key test_corpus/2011Q2/CB_6874581a-5942-48fd-ba7e-2b1cdc38563f\n",
      "[2017-11-01 19:38:58,606] {s3.py:83} INFO - 0 bytes transferred out of 18588132 total\n",
      "[2017-11-01 19:38:59,256] {s3.py:83} INFO - 2072576 bytes transferred out of 18588132 total\n",
      "[2017-11-01 19:38:59,410] {s3.py:83} INFO - 4145152 bytes transferred out of 18588132 total\n",
      "[2017-11-01 19:38:59,567] {s3.py:83} INFO - 6217728 bytes transferred out of 18588132 total\n",
      "[2017-11-01 19:38:59,705] {s3.py:83} INFO - 8290304 bytes transferred out of 18588132 total\n",
      "[2017-11-01 19:38:59,936] {s3.py:83} INFO - 10362880 bytes transferred out of 18588132 total\n",
      "[2017-11-01 19:39:00,113] {s3.py:83} INFO - 12435456 bytes transferred out of 18588132 total\n",
      "[2017-11-01 19:39:00,258] {s3.py:83} INFO - 14508032 bytes transferred out of 18588132 total\n",
      "[2017-11-01 19:39:00,451] {s3.py:83} INFO - 16580608 bytes transferred out of 18588132 total\n",
      "[2017-11-01 19:39:00,620] {s3.py:83} INFO - 18588132 bytes transferred out of 18588132 total\n"
     ]
    },
    {
     "name": "stderr",
     "output_type": "stream",
     "text": [
      "/Users/Eddie/Documents/DSSG/WDI/skills-ml/venv/lib/python3.5/site-packages/bs4/__init__.py:219: UserWarning: \"b'.'\" looks like a filename, not markup. You should probably open this file and pass the filehandle into Beautiful Soup.\n",
      "  ' Beautiful Soup.' % markup)\n"
     ]
    },
    {
     "name": "stdout",
     "output_type": "stream",
     "text": [
      "[2017-11-01 19:39:12,342] {job_postings.py:36} INFO - Extracting job postings from key test_corpus/2011Q2/NLX_b8384025-fa09-417d-ae10-96880fac86be\n",
      "[2017-11-01 19:39:13,912] {s3.py:83} INFO - 0 bytes transferred out of 20171705 total\n",
      "[2017-11-01 19:39:14,531] {s3.py:83} INFO - 2244608 bytes transferred out of 20171705 total\n",
      "[2017-11-01 19:39:14,693] {s3.py:83} INFO - 4489216 bytes transferred out of 20171705 total\n",
      "[2017-11-01 19:39:14,832] {s3.py:83} INFO - 6733824 bytes transferred out of 20171705 total\n",
      "[2017-11-01 19:39:15,027] {s3.py:83} INFO - 8978432 bytes transferred out of 20171705 total\n",
      "[2017-11-01 19:39:15,169] {s3.py:83} INFO - 11223040 bytes transferred out of 20171705 total\n",
      "[2017-11-01 19:39:15,318] {s3.py:83} INFO - 13467648 bytes transferred out of 20171705 total\n",
      "[2017-11-01 19:39:15,482] {s3.py:83} INFO - 15712256 bytes transferred out of 20171705 total\n",
      "[2017-11-01 19:39:15,672] {s3.py:83} INFO - 17956864 bytes transferred out of 20171705 total\n",
      "[2017-11-01 19:39:15,842] {s3.py:83} INFO - 20171705 bytes transferred out of 20171705 total\n",
      "[2017-11-01 19:39:31,768] {job_postings.py:36} INFO - Extracting job postings from key test_corpus/2011Q2/VA_c3b9dad2-ef6c-4439-a4e7-6dff0a55d362\n",
      "[2017-11-01 19:39:33,136] {s3.py:83} INFO - 0 bytes transferred out of 228604 total\n",
      "[2017-11-01 19:39:33,191] {s3.py:83} INFO - 32768 bytes transferred out of 228604 total\n",
      "[2017-11-01 19:39:33,245] {s3.py:83} INFO - 65536 bytes transferred out of 228604 total\n",
      "[2017-11-01 19:39:33,298] {s3.py:83} INFO - 98304 bytes transferred out of 228604 total\n",
      "[2017-11-01 19:39:33,350] {s3.py:83} INFO - 131072 bytes transferred out of 228604 total\n",
      "[2017-11-01 19:39:33,353] {s3.py:83} INFO - 163840 bytes transferred out of 228604 total\n",
      "[2017-11-01 19:39:33,356] {s3.py:83} INFO - 196608 bytes transferred out of 228604 total\n",
      "[2017-11-01 19:39:33,401] {s3.py:83} INFO - 228604 bytes transferred out of 228604 total\n"
     ]
    }
   ],
   "source": [
    "from skills_ml.algorithms.sampling.jobs import JobSampler\n",
    "job_sampler = JobSampler(corpus, random_state=42)\n",
    "corpus = job_sampler.sample(100)"
   ]
  },
  {
   "cell_type": "code",
   "execution_count": 78,
   "metadata": {},
   "outputs": [
    {
     "data": {
      "text/plain": [
       "{'@context': 'http://schema.org',\n",
       " '@type': 'JobPosting',\n",
       " 'alternateName': 'Customer Service Representative',\n",
       " 'baseSalary': {'@type': 'MonetaryAmount', 'maxValue': 11.0, 'minValue': 11.0},\n",
       " 'datePosted': '2011-08-25',\n",
       " 'description': 'We are currently looking for bilingual (Spanish- English) customer service representative. You need to be fluent in both languages, clerical experience, be customer service oriented and have a professional appearance. If you think you have great customer service skills, have a strong work ethic and want to be part of a great team please contact me',\n",
       " 'educationRequirements': 'Not Specified',\n",
       " 'employmentType': 'Full-Time',\n",
       " 'experienceRequirements': 'MINIMUM QUALIFICATIONS: High school diploma and some college coursework or equivalent Capable of solving a variety of customer service problems and supporting a range of personalities and customer types Bi-lingual: Spanish Ability to communicate effectively with others, orally and written',\n",
       " 'id': 'CB_-126168718',\n",
       " 'incentiveCompensation': '',\n",
       " 'industry': 'Consumer Products, Other, Food',\n",
       " 'jobLocation': {'@type': 'Place',\n",
       "  'address': {'@type': 'PostalAddress',\n",
       "   'addressLocality': 'Las Vegas',\n",
       "   'addressRegion': 'NV'}},\n",
       " 'occupationalCategory': '',\n",
       " 'onet_soc_code': None,\n",
       " 'qualifications': 'MINIMUM QUALIFICATIONS: High school diploma and some college coursework or equivalent Capable of solving a variety of customer service problems and supporting a range of personalities and customer types Bi-lingual: Spanish Ability to communicate effectively with others, orally and written',\n",
       " 'skills': 'Customer Service, Information Technology, Admin - Clerical',\n",
       " 'title': 'Bilingual Customer Service - Spanish',\n",
       " 'validThrough': '2012-07-18T00:00:00'}"
      ]
     },
     "execution_count": 78,
     "metadata": {},
     "output_type": "execute_result"
    }
   ],
   "source": [
    "corpus[0]"
   ]
  },
  {
   "cell_type": "code",
   "execution_count": 79,
   "metadata": {
    "collapsed": true
   },
   "outputs": [],
   "source": [
    "industry = list(map(lambda c: c['industry'], corpus))"
   ]
  },
  {
   "cell_type": "code",
   "execution_count": 80,
   "metadata": {},
   "outputs": [
    {
     "data": {
      "text/plain": [
       "Counter({'': 59,\n",
       "         'Advertising, Sales - Marketing, Hospitality': 1,\n",
       "         'Biotechnology, Pharmaceutical, Food': 1,\n",
       "         'Consulting, Sales - Marketing, Hospitality': 1,\n",
       "         'Consumer Products, Other, Food': 1,\n",
       "         'Consumer Products, Sales - Marketing, Food': 2,\n",
       "         'Education - Teaching - Administration, Social Services, Food': 1,\n",
       "         'Entertainment, Food, Hospitality': 1,\n",
       "         'Entertainment, Retail, Hospitality': 1,\n",
       "         'Hospitality, Restaurant, Food': 4,\n",
       "         'Not for Profit - Charitable, Healthcare - Health Services, Food': 1,\n",
       "         'Packaging, Manufacturing, Food': 1,\n",
       "         'Public Relations, Not for Profit - Charitable, Food': 1,\n",
       "         'Restaurant, Food, Hospitality': 7,\n",
       "         'Restaurant, Full Service Restaurant, Hospitality': 1,\n",
       "         'Restaurant, Managed Care, Hospitality': 1,\n",
       "         'Restaurant, Retail, Hospitality': 6,\n",
       "         'Retail, Restaurant, Food': 1,\n",
       "         'Sales - Marketing, Consulting, Hospitality': 1,\n",
       "         'Sales - Marketing, Consumer Products, Food': 1,\n",
       "         'Sales - Marketing, Retail, Food': 5,\n",
       "         'Transportation, Airline - Aviation, Hospitality': 1,\n",
       "         'Transportation, Travel, Hospitality': 1})"
      ]
     },
     "execution_count": 80,
     "metadata": {},
     "output_type": "execute_result"
    }
   ],
   "source": [
    "Counter(industry)"
   ]
  },
  {
   "cell_type": "markdown",
   "metadata": {},
   "source": [
    "## Sampling from filtered corpus"
   ]
  },
  {
   "cell_type": "markdown",
   "metadata": {},
   "source": [
    "### Reservoir Sampling"
   ]
  },
  {
   "cell_type": "code",
   "execution_count": 42,
   "metadata": {
    "collapsed": true
   },
   "outputs": [],
   "source": [
    "job_postings_generator = job_postings_chain(s3_conn, ['2011Q2'], 'open-skills-private/test_corpus')\n",
    "corpus = CorpusCreator(job_postings_generator, filter_func=major_group_filter_func)"
   ]
  },
  {
   "cell_type": "code",
   "execution_count": 43,
   "metadata": {},
   "outputs": [
    {
     "name": "stdout",
     "output_type": "stream",
     "text": [
      "[2017-11-01 18:07:50,774] {job_postings.py:36} INFO - Extracting job postings from key test_corpus/2011Q2/\n",
      "[2017-11-01 18:07:50,863] {s3.py:83} INFO - 0 bytes transferred out of 0 total\n",
      "[2017-11-01 18:07:50,865] {job_postings.py:36} INFO - Extracting job postings from key test_corpus/2011Q2/CB_6874581a-5942-48fd-ba7e-2b1cdc38563f\n",
      "[2017-11-01 18:07:51,009] {s3.py:83} INFO - 0 bytes transferred out of 18588132 total\n",
      "[2017-11-01 18:07:51,582] {s3.py:83} INFO - 2072576 bytes transferred out of 18588132 total\n",
      "[2017-11-01 18:07:51,815] {s3.py:83} INFO - 4145152 bytes transferred out of 18588132 total\n",
      "[2017-11-01 18:07:51,961] {s3.py:83} INFO - 6217728 bytes transferred out of 18588132 total\n",
      "[2017-11-01 18:07:52,110] {s3.py:83} INFO - 8290304 bytes transferred out of 18588132 total\n",
      "[2017-11-01 18:07:52,252] {s3.py:83} INFO - 10362880 bytes transferred out of 18588132 total\n",
      "[2017-11-01 18:07:52,387] {s3.py:83} INFO - 12435456 bytes transferred out of 18588132 total\n",
      "[2017-11-01 18:07:52,525] {s3.py:83} INFO - 14508032 bytes transferred out of 18588132 total\n",
      "[2017-11-01 18:07:52,669] {s3.py:83} INFO - 16580608 bytes transferred out of 18588132 total\n",
      "[2017-11-01 18:07:52,814] {s3.py:83} INFO - 18588132 bytes transferred out of 18588132 total\n",
      "[2017-11-01 18:07:53,084] {job_postings.py:36} INFO - Extracting job postings from key test_corpus/2011Q2/NLX_b8384025-fa09-417d-ae10-96880fac86be\n",
      "[2017-11-01 18:07:53,208] {s3.py:83} INFO - 0 bytes transferred out of 20171705 total\n",
      "[2017-11-01 18:07:53,622] {s3.py:83} INFO - 2244608 bytes transferred out of 20171705 total\n",
      "[2017-11-01 18:07:53,849] {s3.py:83} INFO - 4489216 bytes transferred out of 20171705 total\n",
      "[2017-11-01 18:07:54,033] {s3.py:83} INFO - 6733824 bytes transferred out of 20171705 total\n",
      "[2017-11-01 18:07:54,201] {s3.py:83} INFO - 8978432 bytes transferred out of 20171705 total\n",
      "[2017-11-01 18:07:54,411] {s3.py:83} INFO - 11223040 bytes transferred out of 20171705 total\n",
      "[2017-11-01 18:07:54,560] {s3.py:83} INFO - 13467648 bytes transferred out of 20171705 total\n",
      "[2017-11-01 18:07:54,765] {s3.py:83} INFO - 15712256 bytes transferred out of 20171705 total\n",
      "[2017-11-01 18:07:54,926] {s3.py:83} INFO - 17956864 bytes transferred out of 20171705 total\n",
      "[2017-11-01 18:07:55,064] {s3.py:83} INFO - 20171705 bytes transferred out of 20171705 total\n",
      "[2017-11-01 18:07:55,621] {job_postings.py:36} INFO - Extracting job postings from key test_corpus/2011Q2/VA_c3b9dad2-ef6c-4439-a4e7-6dff0a55d362\n",
      "[2017-11-01 18:07:55,719] {s3.py:83} INFO - 0 bytes transferred out of 228604 total\n",
      "[2017-11-01 18:07:55,878] {s3.py:83} INFO - 32768 bytes transferred out of 228604 total\n",
      "[2017-11-01 18:07:55,983] {s3.py:83} INFO - 65536 bytes transferred out of 228604 total\n",
      "[2017-11-01 18:07:56,034] {s3.py:83} INFO - 98304 bytes transferred out of 228604 total\n",
      "[2017-11-01 18:07:56,038] {s3.py:83} INFO - 131072 bytes transferred out of 228604 total\n",
      "[2017-11-01 18:07:56,090] {s3.py:83} INFO - 163840 bytes transferred out of 228604 total\n",
      "[2017-11-01 18:07:56,091] {s3.py:83} INFO - 196608 bytes transferred out of 228604 total\n",
      "[2017-11-01 18:07:56,092] {s3.py:83} INFO - 228604 bytes transferred out of 228604 total\n"
     ]
    }
   ],
   "source": [
    "job_sampler = JobSampler(corpus, random_state=42)\n",
    "corpus = job_sampler.sample(100)"
   ]
  },
  {
   "cell_type": "code",
   "execution_count": 34,
   "metadata": {
    "collapsed": true
   },
   "outputs": [],
   "source": [
    "onet_soc_code = list(map(lambda c: c['onet_soc_code'][:2], corpus))"
   ]
  },
  {
   "cell_type": "code",
   "execution_count": 35,
   "metadata": {},
   "outputs": [
    {
     "data": {
      "text/plain": [
       "Counter({'11': 78, '13': 22})"
      ]
     },
     "execution_count": 35,
     "metadata": {},
     "output_type": "execute_result"
    }
   ],
   "source": [
    "Counter(onet_soc_code)"
   ]
  },
  {
   "cell_type": "markdown",
   "metadata": {},
   "source": [
    "### Weighted Reservoir Sampling"
   ]
  },
  {
   "cell_type": "code",
   "execution_count": 93,
   "metadata": {
    "collapsed": true
   },
   "outputs": [],
   "source": [
    "job_postings_generator = job_postings_chain(s3_conn, ['2011Q2'], 'open-skills-private/test_corpus')\n",
    "corpus = CorpusCreator(job_postings_generator, filter_func=major_group_filter_func)"
   ]
  },
  {
   "cell_type": "code",
   "execution_count": 94,
   "metadata": {},
   "outputs": [
    {
     "name": "stdout",
     "output_type": "stream",
     "text": [
      "[2017-11-01 18:18:43,238] {job_postings.py:36} INFO - Extracting job postings from key test_corpus/2011Q2/\n",
      "[2017-11-01 18:18:43,329] {s3.py:83} INFO - 0 bytes transferred out of 0 total\n",
      "[2017-11-01 18:18:43,331] {job_postings.py:36} INFO - Extracting job postings from key test_corpus/2011Q2/CB_6874581a-5942-48fd-ba7e-2b1cdc38563f\n",
      "[2017-11-01 18:18:43,396] {s3.py:83} INFO - 0 bytes transferred out of 18588132 total\n",
      "[2017-11-01 18:18:44,142] {s3.py:83} INFO - 2072576 bytes transferred out of 18588132 total\n",
      "[2017-11-01 18:18:44,346] {s3.py:83} INFO - 4145152 bytes transferred out of 18588132 total\n",
      "[2017-11-01 18:18:44,501] {s3.py:83} INFO - 6217728 bytes transferred out of 18588132 total\n",
      "[2017-11-01 18:18:44,682] {s3.py:83} INFO - 8290304 bytes transferred out of 18588132 total\n",
      "[2017-11-01 18:18:44,813] {s3.py:83} INFO - 10362880 bytes transferred out of 18588132 total\n",
      "[2017-11-01 18:18:44,956] {s3.py:83} INFO - 12435456 bytes transferred out of 18588132 total\n",
      "[2017-11-01 18:18:45,089] {s3.py:83} INFO - 14508032 bytes transferred out of 18588132 total\n",
      "[2017-11-01 18:18:45,214] {s3.py:83} INFO - 16580608 bytes transferred out of 18588132 total\n",
      "[2017-11-01 18:18:45,370] {s3.py:83} INFO - 18588132 bytes transferred out of 18588132 total\n",
      "[2017-11-01 18:18:45,651] {job_postings.py:36} INFO - Extracting job postings from key test_corpus/2011Q2/NLX_b8384025-fa09-417d-ae10-96880fac86be\n",
      "[2017-11-01 18:18:45,718] {s3.py:83} INFO - 0 bytes transferred out of 20171705 total\n",
      "[2017-11-01 18:18:45,900] {s3.py:83} INFO - 2244608 bytes transferred out of 20171705 total\n",
      "[2017-11-01 18:18:46,057] {s3.py:83} INFO - 4489216 bytes transferred out of 20171705 total\n",
      "[2017-11-01 18:18:46,247] {s3.py:83} INFO - 6733824 bytes transferred out of 20171705 total\n",
      "[2017-11-01 18:18:46,427] {s3.py:83} INFO - 8978432 bytes transferred out of 20171705 total\n",
      "[2017-11-01 18:18:46,567] {s3.py:83} INFO - 11223040 bytes transferred out of 20171705 total\n",
      "[2017-11-01 18:18:46,720] {s3.py:83} INFO - 13467648 bytes transferred out of 20171705 total\n",
      "[2017-11-01 18:18:46,863] {s3.py:83} INFO - 15712256 bytes transferred out of 20171705 total\n",
      "[2017-11-01 18:18:47,013] {s3.py:83} INFO - 17956864 bytes transferred out of 20171705 total\n",
      "[2017-11-01 18:18:47,171] {s3.py:83} INFO - 20171705 bytes transferred out of 20171705 total\n",
      "[2017-11-01 18:18:47,683] {job_postings.py:36} INFO - Extracting job postings from key test_corpus/2011Q2/VA_c3b9dad2-ef6c-4439-a4e7-6dff0a55d362\n",
      "[2017-11-01 18:18:47,752] {s3.py:83} INFO - 0 bytes transferred out of 228604 total\n",
      "[2017-11-01 18:18:47,765] {s3.py:83} INFO - 32768 bytes transferred out of 228604 total\n",
      "[2017-11-01 18:18:47,772] {s3.py:83} INFO - 65536 bytes transferred out of 228604 total\n",
      "[2017-11-01 18:18:47,774] {s3.py:83} INFO - 98304 bytes transferred out of 228604 total\n",
      "[2017-11-01 18:18:47,775] {s3.py:83} INFO - 131072 bytes transferred out of 228604 total\n",
      "[2017-11-01 18:18:47,776] {s3.py:83} INFO - 163840 bytes transferred out of 228604 total\n",
      "[2017-11-01 18:18:47,778] {s3.py:83} INFO - 196608 bytes transferred out of 228604 total\n",
      "[2017-11-01 18:18:47,780] {s3.py:83} INFO - 228604 bytes transferred out of 228604 total\n"
     ]
    }
   ],
   "source": [
    "job_sampler = JobSampler(corpus, major_group=True,weights={'11': 1, '13': 3.5})\n",
    "sampled_corpus = job_sampler.sample(50)"
   ]
  },
  {
   "cell_type": "code",
   "execution_count": 95,
   "metadata": {
    "collapsed": true
   },
   "outputs": [],
   "source": [
    "major_group = list(map(lambda c: c[1][:2], sampled_corpus))"
   ]
  },
  {
   "cell_type": "code",
   "execution_count": 96,
   "metadata": {},
   "outputs": [
    {
     "data": {
      "text/plain": [
       "Counter({'11': 24, '13': 26})"
      ]
     },
     "execution_count": 96,
     "metadata": {},
     "output_type": "execute_result"
    }
   ],
   "source": [
    "Counter(major_group)"
   ]
  },
  {
   "cell_type": "code",
   "execution_count": 97,
   "metadata": {},
   "outputs": [
    {
     "data": {
      "text/plain": [
       "({'@context': 'http://schema.org',\n",
       "  '@type': 'JobPosting',\n",
       "  'alternateName': 'General Manager',\n",
       "  'baseSalary': {'@type': 'MonetaryAmount',\n",
       "   'maxValue': 27500.0,\n",
       "   'minValue': 25000.0},\n",
       "  'datePosted': '2012-07-19',\n",
       "  'description': 'Restaurant General Manager Average bonus $7,000 - $10,000 annually! Health Care Company paid cell phone One week vacation per year Restaurant General Manager Responsibilities * Overall Restaurant operations of fast casual restaurant * Appoint tasks and responsibilities to other managers and team members * Restaurant General Manager will ensure policies are upheld and utilize corrective action when necessary * Manage financial forecasting (P&L, Sales, Budgets, etc.) * Train, coach and hold regular meetings with team members * Other typical responsibilities to ensure ease of operations',\n",
       "  'educationRequirements': 'Graduate Degree',\n",
       "  'employmentType': 'Full-Time',\n",
       "  'experienceRequirements': '1. Restaurant General Manager should have one year of supervisory or management experience 2. One year of food service experience 3. Previous experience with employee scheduling 4. Outgoing, customer service orientated 5. Valid current or past food certification preferred 6. Responsible for food inventory 7. Customer satisfaction 8. Catering orders 9. Restaurant General Manager will be responsible for local store marketing',\n",
       "  'id': 'CB_-1794614601',\n",
       "  'incentiveCompensation': 'Company paid cell phone, benefits and bonuses',\n",
       "  'industry': 'Restaurant, Food, Hospitality',\n",
       "  'jobLocation': {'@type': 'Place',\n",
       "   'address': {'@type': 'PostalAddress',\n",
       "    'addressLocality': 'Johnstown',\n",
       "    'addressRegion': 'PA'}},\n",
       "  'occupationalCategory': 'Food Service Managers',\n",
       "  'onet_soc_code': '11-9051.00',\n",
       "  'qualifications': '1. Restaurant General Manager should have one year of supervisory or management experience 2. One year of food service experience 3. Previous experience with employee scheduling 4. Outgoing, customer service orientated 5. Valid current or past food certification preferred 6. Responsible for food inventory 7. Customer satisfaction 8. Catering orders 9. Restaurant General Manager will be responsible for local store marketing',\n",
       "  'skills': 'Hospitality - Hotel, Restaurant - Food Service, Management',\n",
       "  'title': 'Restaurant General Manager',\n",
       "  'validThrough': '2012-07-19T00:00:00'},\n",
       " '11')"
      ]
     },
     "execution_count": 97,
     "metadata": {},
     "output_type": "execute_result"
    }
   ],
   "source": [
    "sampled_corpus[0]"
   ]
  },
  {
   "cell_type": "code",
   "execution_count": null,
   "metadata": {
    "collapsed": true
   },
   "outputs": [],
   "source": []
  }
 ],
 "metadata": {
  "kernelspec": {
   "display_name": "Python 3",
   "language": "python",
   "name": "python3"
  },
  "language_info": {
   "codemirror_mode": {
    "name": "ipython",
    "version": 3
   },
   "file_extension": ".py",
   "mimetype": "text/x-python",
   "name": "python",
   "nbconvert_exporter": "python",
   "pygments_lexer": "ipython3",
   "version": "3.5.2"
  }
 },
 "nbformat": 4,
 "nbformat_minor": 2
}
