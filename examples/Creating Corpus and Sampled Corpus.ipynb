{
 "cells": [
  {
   "cell_type": "code",
   "execution_count": 1,
   "metadata": {},
   "outputs": [
    {
     "name": "stdout",
     "output_type": "stream",
     "text": [
      "[2017-11-03 15:07:36,262] {__init__.py:36} INFO - Using executor SequentialExecutor\n",
      "[2017-11-03 15:07:37,459] {textcleaner.py:20} INFO - 'pattern' package not found; tag filters are not available for English\n"
     ]
    }
   ],
   "source": [
    "%reload_ext autoreload\n",
    "%autoreload 2\n",
    "import sys\n",
    "sys.path.append('../')\n",
    "from airflow.hooks import S3Hook\n",
    "s3_conn = S3Hook().get_conn()\n",
    "from skills_ml.datasets.job_postings import job_postings, job_postings_chain\n",
    "import random\n",
    "import json\n",
    "from skills_ml.algorithms.corpus_creators.basic import Doc2VecGensimCorpusCreator, CorpusCreator\n",
    "from collections import Counter\n",
    "import numpy as np\n",
    "from skills_ml.algorithms.sampling.jobs import JobSampler"
   ]
  },
  {
   "cell_type": "markdown",
   "metadata": {},
   "source": [
    "# Streaming Data to Create Corpus"
   ]
  },
  {
   "cell_type": "markdown",
   "metadata": {},
   "source": [
    "## Simple Corpus"
   ]
  },
  {
   "cell_type": "code",
   "execution_count": 2,
   "metadata": {
    "collapsed": true
   },
   "outputs": [],
   "source": [
    "job_postings_generator = job_postings_chain(s3_conn, ['2011Q2'], 'open-skills-private/test_corpus')\n",
    "corpus = CorpusCreator(job_postings_generator)"
   ]
  },
  {
   "cell_type": "code",
   "execution_count": 3,
   "metadata": {},
   "outputs": [
    {
     "name": "stdout",
     "output_type": "stream",
     "text": [
      "[2017-11-03 15:07:37,922] {job_postings.py:36} INFO - Extracting job postings from key test_corpus/2011Q2/\n",
      "[2017-11-03 15:07:38,017] {s3.py:83} INFO - 0 bytes transferred out of 0 total\n",
      "[2017-11-03 15:07:38,019] {job_postings.py:36} INFO - Extracting job postings from key test_corpus/2011Q2/CB_6874581a-5942-48fd-ba7e-2b1cdc38563f\n",
      "[2017-11-03 15:07:38,171] {s3.py:83} INFO - 0 bytes transferred out of 18588132 total\n",
      "[2017-11-03 15:07:38,793] {s3.py:83} INFO - 2072576 bytes transferred out of 18588132 total\n",
      "[2017-11-03 15:07:39,032] {s3.py:83} INFO - 4145152 bytes transferred out of 18588132 total\n",
      "[2017-11-03 15:07:39,246] {s3.py:83} INFO - 6217728 bytes transferred out of 18588132 total\n",
      "[2017-11-03 15:07:39,424] {s3.py:83} INFO - 8290304 bytes transferred out of 18588132 total\n",
      "[2017-11-03 15:07:39,619] {s3.py:83} INFO - 10362880 bytes transferred out of 18588132 total\n",
      "[2017-11-03 15:07:39,826] {s3.py:83} INFO - 12435456 bytes transferred out of 18588132 total\n",
      "[2017-11-03 15:07:40,005] {s3.py:83} INFO - 14508032 bytes transferred out of 18588132 total\n",
      "[2017-11-03 15:07:40,247] {s3.py:83} INFO - 16580608 bytes transferred out of 18588132 total\n",
      "[2017-11-03 15:07:40,410] {s3.py:83} INFO - 18588132 bytes transferred out of 18588132 total\n"
     ]
    },
    {
     "name": "stderr",
     "output_type": "stream",
     "text": [
      "/Users/Eddie/Documents/DSSG/WDI/skills-ml/venv/lib/python3.5/site-packages/bs4/__init__.py:219: UserWarning: \"b'.'\" looks like a filename, not markup. You should probably open this file and pass the filehandle into Beautiful Soup.\n",
      "  ' Beautiful Soup.' % markup)\n"
     ]
    },
    {
     "name": "stdout",
     "output_type": "stream",
     "text": [
      "[2017-11-03 15:07:45,278] {job_postings.py:36} INFO - Extracting job postings from key test_corpus/2011Q2/NLX_b8384025-fa09-417d-ae10-96880fac86be\n",
      "[2017-11-03 15:07:45,446] {s3.py:83} INFO - 0 bytes transferred out of 20171705 total\n",
      "[2017-11-03 15:07:46,769] {s3.py:83} INFO - 2244608 bytes transferred out of 20171705 total\n",
      "[2017-11-03 15:07:47,096] {s3.py:83} INFO - 4489216 bytes transferred out of 20171705 total\n",
      "[2017-11-03 15:07:47,347] {s3.py:83} INFO - 6733824 bytes transferred out of 20171705 total\n",
      "[2017-11-03 15:07:47,567] {s3.py:83} INFO - 8978432 bytes transferred out of 20171705 total\n",
      "[2017-11-03 15:07:47,794] {s3.py:83} INFO - 11223040 bytes transferred out of 20171705 total\n",
      "[2017-11-03 15:07:48,024] {s3.py:83} INFO - 13467648 bytes transferred out of 20171705 total\n",
      "[2017-11-03 15:07:48,247] {s3.py:83} INFO - 15712256 bytes transferred out of 20171705 total\n",
      "[2017-11-03 15:07:48,458] {s3.py:83} INFO - 17956864 bytes transferred out of 20171705 total\n",
      "[2017-11-03 15:07:48,728] {s3.py:83} INFO - 20171705 bytes transferred out of 20171705 total\n",
      "[2017-11-03 15:07:53,470] {job_postings.py:36} INFO - Extracting job postings from key test_corpus/2011Q2/VA_c3b9dad2-ef6c-4439-a4e7-6dff0a55d362\n",
      "[2017-11-03 15:07:53,621] {s3.py:83} INFO - 0 bytes transferred out of 228604 total\n",
      "[2017-11-03 15:07:53,790] {s3.py:83} INFO - 32768 bytes transferred out of 228604 total\n",
      "[2017-11-03 15:07:53,845] {s3.py:83} INFO - 65536 bytes transferred out of 228604 total\n",
      "[2017-11-03 15:07:53,899] {s3.py:83} INFO - 98304 bytes transferred out of 228604 total\n",
      "[2017-11-03 15:07:53,959] {s3.py:83} INFO - 131072 bytes transferred out of 228604 total\n",
      "[2017-11-03 15:07:53,961] {s3.py:83} INFO - 163840 bytes transferred out of 228604 total\n",
      "[2017-11-03 15:07:54,021] {s3.py:83} INFO - 196608 bytes transferred out of 228604 total\n",
      "[2017-11-03 15:07:54,023] {s3.py:83} INFO - 228604 bytes transferred out of 228604 total\n"
     ]
    }
   ],
   "source": [
    "corpus = list(corpus)"
   ]
  },
  {
   "cell_type": "code",
   "execution_count": 4,
   "metadata": {},
   "outputs": [
    {
     "data": {
      "text/plain": [
       "10567"
      ]
     },
     "execution_count": 4,
     "metadata": {},
     "output_type": "execute_result"
    }
   ],
   "source": [
    "len(corpus)"
   ]
  },
  {
   "cell_type": "code",
   "execution_count": 5,
   "metadata": {},
   "outputs": [
    {
     "data": {
      "text/plain": [
       "{'@context': 'http://schema.org',\n",
       " '@type': 'JobPosting',\n",
       " 'alternateName': 'Payroll Specialist',\n",
       " 'baseSalary': {'@type': 'MonetaryAmount', 'maxValue': 0.0, 'minValue': 0.0},\n",
       " 'datePosted': '2012-06-20',\n",
       " 'description': 'Position Summary: The Payroll Specialist is responsible for processing all payroll information for accurate and timely payroll distribution. Responsibilities: Process store-level biweekly payroll accurately and timely Import store employee info and time clock data Research and resolve employee payroll issues Process involuntary wage withholding correspondence Respond promptly to all requests and communications received Review and process adjustments to hours/earnings Maintain employee direct deposit records Assist with various projects as assigned GREAT OPPORTUNITY!',\n",
       " 'educationRequirements': 'Graduate Degree',\n",
       " 'employmentType': 'Full-Time',\n",
       " 'experienceRequirements': 'Qualifications: 1-3 years of general payroll experience Positive attitude combined with excellent communication skills Possess the ability to work well under pressure and meet deadlines Must be detail oriented with strong organization skills Possess general knowledge of involuntary wage deductions and federal and multistate payroll tax laws Ability to work with minimal supervision, prioritize tasks and maintain confidentiality Dedicated to providing an accurate payroll product in a team environment Excellent attendance history Experience Preferred: · High School education · Multi-unit or restaurant payroll experience is a plus · ADP Payforce and ADP Reporting experience is a plus · Microsoft Office Suite',\n",
       " 'id': 'CB_159324388',\n",
       " 'incentiveCompensation': '',\n",
       " 'industry': 'Accounting - Finance, Full Service Restaurant, Food',\n",
       " 'jobLocation': {'@type': 'Place',\n",
       "  'address': {'@type': 'PostalAddress',\n",
       "   'addressLocality': 'Farmers Branch',\n",
       "   'addressRegion': 'TX'}},\n",
       " 'occupationalCategory': '',\n",
       " 'onet_soc_code': None,\n",
       " 'qualifications': 'Qualifications: 1-3 years of general payroll experience Positive attitude combined with excellent communication skills Possess the ability to work well under pressure and meet deadlines Must be detail oriented with strong organization skills Possess general knowledge of involuntary wage deductions and federal and multistate payroll tax laws Ability to work with minimal supervision, prioritize tasks and maintain confidentiality Dedicated to providing an accurate payroll product in a team environment Excellent attendance history Experience Preferred: · High School education · Multi-unit or restaurant payroll experience is a plus · ADP Payforce and ADP Reporting experience is a plus · Microsoft Office Suite',\n",
       " 'skills': 'Finance, Restaurant - Food Service, Accounting',\n",
       " 'title': 'Payroll Specialist',\n",
       " 'validThrough': '2012-07-20T00:00:00'}"
      ]
     },
     "execution_count": 5,
     "metadata": {},
     "output_type": "execute_result"
    }
   ],
   "source": [
    "corpus[0]"
   ]
  },
  {
   "cell_type": "markdown",
   "metadata": {},
   "source": [
    "## Creating Corpus with Criteria"
   ]
  },
  {
   "cell_type": "markdown",
   "metadata": {},
   "source": [
    "#### One can define their own funciton and logic of filtering based on the common schema."
   ]
  },
  {
   "cell_type": "code",
   "execution_count": 6,
   "metadata": {
    "collapsed": true
   },
   "outputs": [],
   "source": [
    "def major_group_filter_func(document):\n",
    "    if document['onet_soc_code']:\n",
    "        if document['onet_soc_code'][:2] in ['11', '13']:\n",
    "            return document\n",
    "\n",
    "def full_soc_code_filter_func(document):\n",
    "    if document['onet_soc_code']:\n",
    "        if document['onet_soc_code'] in ['11-9051.00', '17-3026.00']:\n",
    "            return document\n",
    "\n",
    "def wage_filter_func(document):\n",
    "    if document['baseSalary']['minValue']:\n",
    "        if float(document['baseSalary']['minValue']) >= 60000.0:\n",
    "            return document"
   ]
  },
  {
   "cell_type": "markdown",
   "metadata": {},
   "source": [
    "### Filtered by Major Groups"
   ]
  },
  {
   "cell_type": "code",
   "execution_count": 7,
   "metadata": {
    "collapsed": true
   },
   "outputs": [],
   "source": [
    "job_postings_generator = job_postings_chain(s3_conn, ['2011Q2'], 'open-skills-private/test_corpus')\n",
    "corpus = CorpusCreator(job_postings_generator, filter_func=major_group_filter_func)"
   ]
  },
  {
   "cell_type": "code",
   "execution_count": 8,
   "metadata": {},
   "outputs": [
    {
     "name": "stdout",
     "output_type": "stream",
     "text": [
      "[2017-11-03 15:07:54,402] {job_postings.py:36} INFO - Extracting job postings from key test_corpus/2011Q2/\n",
      "[2017-11-03 15:07:54,502] {s3.py:83} INFO - 0 bytes transferred out of 0 total\n",
      "[2017-11-03 15:07:54,503] {job_postings.py:36} INFO - Extracting job postings from key test_corpus/2011Q2/CB_6874581a-5942-48fd-ba7e-2b1cdc38563f\n",
      "[2017-11-03 15:07:54,654] {s3.py:83} INFO - 0 bytes transferred out of 18588132 total\n",
      "[2017-11-03 15:07:55,157] {s3.py:83} INFO - 2072576 bytes transferred out of 18588132 total\n",
      "[2017-11-03 15:07:55,433] {s3.py:83} INFO - 4145152 bytes transferred out of 18588132 total\n",
      "[2017-11-03 15:07:55,631] {s3.py:83} INFO - 6217728 bytes transferred out of 18588132 total\n",
      "[2017-11-03 15:07:55,831] {s3.py:83} INFO - 8290304 bytes transferred out of 18588132 total\n",
      "[2017-11-03 15:07:56,060] {s3.py:83} INFO - 10362880 bytes transferred out of 18588132 total\n",
      "[2017-11-03 15:07:56,291] {s3.py:83} INFO - 12435456 bytes transferred out of 18588132 total\n",
      "[2017-11-03 15:07:56,494] {s3.py:83} INFO - 14508032 bytes transferred out of 18588132 total\n",
      "[2017-11-03 15:07:56,683] {s3.py:83} INFO - 16580608 bytes transferred out of 18588132 total\n",
      "[2017-11-03 15:07:56,895] {s3.py:83} INFO - 18588132 bytes transferred out of 18588132 total\n",
      "[2017-11-03 15:07:57,210] {job_postings.py:36} INFO - Extracting job postings from key test_corpus/2011Q2/NLX_b8384025-fa09-417d-ae10-96880fac86be\n"
     ]
    },
    {
     "name": "stderr",
     "output_type": "stream",
     "text": [
      "/Users/Eddie/Documents/DSSG/WDI/skills-ml/venv/lib/python3.5/site-packages/bs4/__init__.py:219: UserWarning: \"b'.'\" looks like a filename, not markup. You should probably open this file and pass the filehandle into Beautiful Soup.\n",
      "  ' Beautiful Soup.' % markup)\n"
     ]
    },
    {
     "name": "stdout",
     "output_type": "stream",
     "text": [
      "[2017-11-03 15:07:57,324] {s3.py:83} INFO - 0 bytes transferred out of 20171705 total\n",
      "[2017-11-03 15:08:00,015] {s3.py:83} INFO - 2244608 bytes transferred out of 20171705 total\n",
      "[2017-11-03 15:08:00,878] {s3.py:83} INFO - 4489216 bytes transferred out of 20171705 total\n",
      "[2017-11-03 15:08:01,344] {s3.py:83} INFO - 6733824 bytes transferred out of 20171705 total\n",
      "[2017-11-03 15:08:01,680] {s3.py:83} INFO - 8978432 bytes transferred out of 20171705 total\n",
      "[2017-11-03 15:08:02,053] {s3.py:83} INFO - 11223040 bytes transferred out of 20171705 total\n",
      "[2017-11-03 15:08:02,353] {s3.py:83} INFO - 13467648 bytes transferred out of 20171705 total\n",
      "[2017-11-03 15:08:02,612] {s3.py:83} INFO - 15712256 bytes transferred out of 20171705 total\n",
      "[2017-11-03 15:08:02,847] {s3.py:83} INFO - 17956864 bytes transferred out of 20171705 total\n",
      "[2017-11-03 15:08:03,079] {s3.py:83} INFO - 20171705 bytes transferred out of 20171705 total\n",
      "[2017-11-03 15:08:03,488] {job_postings.py:36} INFO - Extracting job postings from key test_corpus/2011Q2/VA_c3b9dad2-ef6c-4439-a4e7-6dff0a55d362\n",
      "[2017-11-03 15:08:03,604] {s3.py:83} INFO - 0 bytes transferred out of 228604 total\n",
      "[2017-11-03 15:08:03,607] {s3.py:83} INFO - 32768 bytes transferred out of 228604 total\n",
      "[2017-11-03 15:08:03,608] {s3.py:83} INFO - 65536 bytes transferred out of 228604 total\n",
      "[2017-11-03 15:08:03,611] {s3.py:83} INFO - 98304 bytes transferred out of 228604 total\n",
      "[2017-11-03 15:08:03,612] {s3.py:83} INFO - 131072 bytes transferred out of 228604 total\n",
      "[2017-11-03 15:08:03,617] {s3.py:83} INFO - 163840 bytes transferred out of 228604 total\n",
      "[2017-11-03 15:08:03,619] {s3.py:83} INFO - 196608 bytes transferred out of 228604 total\n",
      "[2017-11-03 15:08:03,620] {s3.py:83} INFO - 228604 bytes transferred out of 228604 total\n"
     ]
    }
   ],
   "source": [
    "corpus = list(corpus)"
   ]
  },
  {
   "cell_type": "code",
   "execution_count": 9,
   "metadata": {},
   "outputs": [
    {
     "data": {
      "text/plain": [
       "{'@context': 'http://schema.org',\n",
       " '@type': 'JobPosting',\n",
       " 'alternateName': 'General Manager',\n",
       " 'baseSalary': {'@type': 'MonetaryAmount', 'maxValue': 0.0, 'minValue': 0.0},\n",
       " 'datePosted': '2012-09-17',\n",
       " 'description': 'If you are a personable, outgoing and service-oriented professional who wants to manage a dynamic office, come join the Kool Smiles family! Kool Smiles was founded in 2002 and was built on the belief that every family has the right to quality dental care in a clean, safe and fun environment. Our first goal is to provide quality and compliant dental care to individuals in communities that typically get overlooked by other dentists. Our services aren’t just for kids- we know that children are more likely to have great dental habits if mom and dad do too, so we happily care for the entire family. Kool Smiles is looking for a customer-service-oriented leader to fill the role of Office Manager. As the Office Manager, you will manage an office staff of 15 to 30 employees and provide a friendly environment for the numerous patients who come to us for dental care. Job Responsibilities As the Office Manager for Kool Smiles, you will interview and hire new employees as well as coach and counsel existing staff. You will also develop a team atmosphere among office staff and encourage them to perform at their highest level. You will also handle a wide range of organizational and supervisory duties, including: • Ensuring outstanding patient satisfaction • Ensuring compliance standards are met at all times • Achieving office level financial performance targets • Scheduling staff and conducting performance-management programs • Promoting Kool Smiles brand throughout community via local marketing efforts • Maintaining the appearance and overall efficiency of the office Job Requirements As the Manager, you will be the public face of Kool Smiles. You must be professional in your appearance and manner and be able to interact well with children as they comprise approximately 80% of our patients. You must also have excellent problem-solving and verbal and written communication skills. Specific qualifications for the Office Manager position include: • Minimum 5 years experience managing 10 or more direct reports in a customer-service-focused role, preferably in a retail, hospitality, restaurant or medical setting where you had direct and face-to-face interaction with customers • Proficiency with Microsoft Office Suite • Demonstrated ability to drive business results • Public-service experience is a plus, as many of our patients are children from low-income families in medically underserved communities • Bachelor’s degree is preferred, but not required Benefits At Kool Smiles, you will begin your role as Office Manager with a two-week training course in Atlanta. You will also have the opportunity to advance to positions such as District Manager, Area Business Leader, and Certified Office Manager (which involves setting-up and training staff for new Kool Smiles offices.) Additional benefits include: • Medical and dental insurance • 401(k) • Short-term and long-term disability • Bonus plan based on the performance of the office • Paid vacation • Paid holidays Take on a new challenge and make a positive community impact! Apply today!',\n",
       " 'educationRequirements': 'Not Specified',\n",
       " 'employmentType': 'Full-Time',\n",
       " 'experienceRequirements': '#',\n",
       " 'id': 'CB_757175032',\n",
       " 'incentiveCompensation': '',\n",
       " 'industry': 'Healthcare - Health Services, Retail, Food',\n",
       " 'jobLocation': {'@type': 'Place',\n",
       "  'address': {'@type': 'PostalAddress',\n",
       "   'addressLocality': 'Lafayette',\n",
       "   'addressRegion': 'IN'}},\n",
       " 'occupationalCategory': 'Food Service Managers',\n",
       " 'onet_soc_code': '11-9051.00',\n",
       " 'qualifications': '#',\n",
       " 'skills': 'Retail, Management, Health Care',\n",
       " 'title': 'General Manager seeking change-No Late Nights/Sundays',\n",
       " 'validThrough': '2012-11-19T00:00:00'}"
      ]
     },
     "execution_count": 9,
     "metadata": {},
     "output_type": "execute_result"
    }
   ],
   "source": [
    "corpus[0]"
   ]
  },
  {
   "cell_type": "code",
   "execution_count": 10,
   "metadata": {
    "collapsed": true
   },
   "outputs": [],
   "source": [
    "major_group = list(map(lambda c: c['onet_soc_code'][:2], corpus))"
   ]
  },
  {
   "cell_type": "code",
   "execution_count": 11,
   "metadata": {},
   "outputs": [
    {
     "data": {
      "text/plain": [
       "Counter({'11': 283, '13': 102})"
      ]
     },
     "execution_count": 11,
     "metadata": {},
     "output_type": "execute_result"
    }
   ],
   "source": [
    "Counter(major_group)"
   ]
  },
  {
   "cell_type": "markdown",
   "metadata": {},
   "source": [
    "### Filtered by Full O*NET SOC Code"
   ]
  },
  {
   "cell_type": "code",
   "execution_count": 12,
   "metadata": {
    "collapsed": true
   },
   "outputs": [],
   "source": [
    "job_postings_generator = job_postings_chain(s3_conn, ['2011Q2'], 'open-skills-private/test_corpus')\n",
    "corpus = CorpusCreator(job_postings_generator, filter_func=full_soc_code_filter_func)"
   ]
  },
  {
   "cell_type": "code",
   "execution_count": 13,
   "metadata": {},
   "outputs": [
    {
     "name": "stdout",
     "output_type": "stream",
     "text": [
      "[2017-11-03 15:08:03,857] {job_postings.py:36} INFO - Extracting job postings from key test_corpus/2011Q2/\n",
      "[2017-11-03 15:08:03,946] {s3.py:83} INFO - 0 bytes transferred out of 0 total\n",
      "[2017-11-03 15:08:03,947] {job_postings.py:36} INFO - Extracting job postings from key test_corpus/2011Q2/CB_6874581a-5942-48fd-ba7e-2b1cdc38563f\n",
      "[2017-11-03 15:08:04,075] {s3.py:83} INFO - 0 bytes transferred out of 18588132 total\n",
      "[2017-11-03 15:08:05,065] {s3.py:83} INFO - 2072576 bytes transferred out of 18588132 total\n",
      "[2017-11-03 15:08:05,310] {s3.py:83} INFO - 4145152 bytes transferred out of 18588132 total\n",
      "[2017-11-03 15:08:05,545] {s3.py:83} INFO - 6217728 bytes transferred out of 18588132 total\n",
      "[2017-11-03 15:08:05,764] {s3.py:83} INFO - 8290304 bytes transferred out of 18588132 total\n",
      "[2017-11-03 15:08:05,989] {s3.py:83} INFO - 10362880 bytes transferred out of 18588132 total\n",
      "[2017-11-03 15:08:06,177] {s3.py:83} INFO - 12435456 bytes transferred out of 18588132 total\n",
      "[2017-11-03 15:08:06,334] {s3.py:83} INFO - 14508032 bytes transferred out of 18588132 total\n",
      "[2017-11-03 15:08:06,492] {s3.py:83} INFO - 16580608 bytes transferred out of 18588132 total\n",
      "[2017-11-03 15:08:06,693] {s3.py:83} INFO - 18588132 bytes transferred out of 18588132 total\n",
      "[2017-11-03 15:08:06,981] {job_postings.py:36} INFO - Extracting job postings from key test_corpus/2011Q2/NLX_b8384025-fa09-417d-ae10-96880fac86be\n",
      "[2017-11-03 15:08:07,094] {s3.py:83} INFO - 0 bytes transferred out of 20171705 total\n"
     ]
    },
    {
     "name": "stderr",
     "output_type": "stream",
     "text": [
      "/Users/Eddie/Documents/DSSG/WDI/skills-ml/venv/lib/python3.5/site-packages/bs4/__init__.py:219: UserWarning: \"b'.'\" looks like a filename, not markup. You should probably open this file and pass the filehandle into Beautiful Soup.\n",
      "  ' Beautiful Soup.' % markup)\n"
     ]
    },
    {
     "name": "stdout",
     "output_type": "stream",
     "text": [
      "[2017-11-03 15:08:07,314] {s3.py:83} INFO - 2244608 bytes transferred out of 20171705 total\n",
      "[2017-11-03 15:08:07,558] {s3.py:83} INFO - 4489216 bytes transferred out of 20171705 total\n",
      "[2017-11-03 15:08:07,798] {s3.py:83} INFO - 6733824 bytes transferred out of 20171705 total\n",
      "[2017-11-03 15:08:07,971] {s3.py:83} INFO - 8978432 bytes transferred out of 20171705 total\n",
      "[2017-11-03 15:08:08,169] {s3.py:83} INFO - 11223040 bytes transferred out of 20171705 total\n",
      "[2017-11-03 15:08:08,379] {s3.py:83} INFO - 13467648 bytes transferred out of 20171705 total\n",
      "[2017-11-03 15:08:08,546] {s3.py:83} INFO - 15712256 bytes transferred out of 20171705 total\n",
      "[2017-11-03 15:08:08,730] {s3.py:83} INFO - 17956864 bytes transferred out of 20171705 total\n",
      "[2017-11-03 15:08:08,916] {s3.py:83} INFO - 20171705 bytes transferred out of 20171705 total\n",
      "[2017-11-03 15:08:09,183] {job_postings.py:36} INFO - Extracting job postings from key test_corpus/2011Q2/VA_c3b9dad2-ef6c-4439-a4e7-6dff0a55d362\n",
      "[2017-11-03 15:08:09,298] {s3.py:83} INFO - 0 bytes transferred out of 228604 total\n",
      "[2017-11-03 15:08:09,306] {s3.py:83} INFO - 32768 bytes transferred out of 228604 total\n",
      "[2017-11-03 15:08:09,308] {s3.py:83} INFO - 65536 bytes transferred out of 228604 total\n",
      "[2017-11-03 15:08:09,310] {s3.py:83} INFO - 98304 bytes transferred out of 228604 total\n",
      "[2017-11-03 15:08:09,311] {s3.py:83} INFO - 131072 bytes transferred out of 228604 total\n",
      "[2017-11-03 15:08:09,314] {s3.py:83} INFO - 163840 bytes transferred out of 228604 total\n",
      "[2017-11-03 15:08:09,318] {s3.py:83} INFO - 196608 bytes transferred out of 228604 total\n",
      "[2017-11-03 15:08:09,320] {s3.py:83} INFO - 228604 bytes transferred out of 228604 total\n"
     ]
    }
   ],
   "source": [
    "corpus = list(corpus)"
   ]
  },
  {
   "cell_type": "code",
   "execution_count": 14,
   "metadata": {
    "collapsed": true
   },
   "outputs": [],
   "source": [
    "soc = list(map(lambda c: c['onet_soc_code'], corpus))"
   ]
  },
  {
   "cell_type": "code",
   "execution_count": 15,
   "metadata": {},
   "outputs": [
    {
     "data": {
      "text/plain": [
       "Counter({'11-9051.00': 79, '17-3026.00': 65})"
      ]
     },
     "execution_count": 15,
     "metadata": {},
     "output_type": "execute_result"
    }
   ],
   "source": [
    "Counter(soc)"
   ]
  },
  {
   "cell_type": "markdown",
   "metadata": {},
   "source": [
    "### Filtered by Minimum Wage >= 60000"
   ]
  },
  {
   "cell_type": "code",
   "execution_count": 16,
   "metadata": {
    "collapsed": true
   },
   "outputs": [],
   "source": [
    "job_postings_generator = job_postings_chain(s3_conn, ['2011Q2'], 'open-skills-private/test_corpus')\n",
    "corpus = CorpusCreator(job_postings_generator, filter_func=wage_filter_func)"
   ]
  },
  {
   "cell_type": "code",
   "execution_count": 17,
   "metadata": {},
   "outputs": [
    {
     "name": "stdout",
     "output_type": "stream",
     "text": [
      "[2017-11-03 15:08:09,564] {job_postings.py:36} INFO - Extracting job postings from key test_corpus/2011Q2/\n",
      "[2017-11-03 15:08:09,634] {s3.py:83} INFO - 0 bytes transferred out of 0 total\n",
      "[2017-11-03 15:08:09,635] {job_postings.py:36} INFO - Extracting job postings from key test_corpus/2011Q2/CB_6874581a-5942-48fd-ba7e-2b1cdc38563f\n",
      "[2017-11-03 15:08:09,735] {s3.py:83} INFO - 0 bytes transferred out of 18588132 total\n",
      "[2017-11-03 15:08:09,954] {s3.py:83} INFO - 2072576 bytes transferred out of 18588132 total\n",
      "[2017-11-03 15:08:10,139] {s3.py:83} INFO - 4145152 bytes transferred out of 18588132 total\n",
      "[2017-11-03 15:08:10,334] {s3.py:83} INFO - 6217728 bytes transferred out of 18588132 total\n",
      "[2017-11-03 15:08:10,511] {s3.py:83} INFO - 8290304 bytes transferred out of 18588132 total\n",
      "[2017-11-03 15:08:10,752] {s3.py:83} INFO - 10362880 bytes transferred out of 18588132 total\n",
      "[2017-11-03 15:08:10,930] {s3.py:83} INFO - 12435456 bytes transferred out of 18588132 total\n",
      "[2017-11-03 15:08:11,079] {s3.py:83} INFO - 14508032 bytes transferred out of 18588132 total\n",
      "[2017-11-03 15:08:11,287] {s3.py:83} INFO - 16580608 bytes transferred out of 18588132 total\n",
      "[2017-11-03 15:08:11,442] {s3.py:83} INFO - 18588132 bytes transferred out of 18588132 total\n",
      "[2017-11-03 15:08:11,669] {job_postings.py:36} INFO - Extracting job postings from key test_corpus/2011Q2/NLX_b8384025-fa09-417d-ae10-96880fac86be\n",
      "[2017-11-03 15:08:11,781] {s3.py:83} INFO - 0 bytes transferred out of 20171705 total\n",
      "[2017-11-03 15:08:12,010] {s3.py:83} INFO - 2244608 bytes transferred out of 20171705 total\n",
      "[2017-11-03 15:08:12,182] {s3.py:83} INFO - 4489216 bytes transferred out of 20171705 total\n",
      "[2017-11-03 15:08:12,365] {s3.py:83} INFO - 6733824 bytes transferred out of 20171705 total\n",
      "[2017-11-03 15:08:12,563] {s3.py:83} INFO - 8978432 bytes transferred out of 20171705 total\n",
      "[2017-11-03 15:08:12,757] {s3.py:83} INFO - 11223040 bytes transferred out of 20171705 total\n",
      "[2017-11-03 15:08:12,920] {s3.py:83} INFO - 13467648 bytes transferred out of 20171705 total\n",
      "[2017-11-03 15:08:13,105] {s3.py:83} INFO - 15712256 bytes transferred out of 20171705 total\n",
      "[2017-11-03 15:08:13,295] {s3.py:83} INFO - 17956864 bytes transferred out of 20171705 total\n",
      "[2017-11-03 15:08:13,455] {s3.py:83} INFO - 20171705 bytes transferred out of 20171705 total\n",
      "[2017-11-03 15:08:13,706] {job_postings.py:36} INFO - Extracting job postings from key test_corpus/2011Q2/VA_c3b9dad2-ef6c-4439-a4e7-6dff0a55d362\n",
      "[2017-11-03 15:08:13,818] {s3.py:83} INFO - 0 bytes transferred out of 228604 total\n",
      "[2017-11-03 15:08:13,820] {s3.py:83} INFO - 32768 bytes transferred out of 228604 total\n",
      "[2017-11-03 15:08:13,822] {s3.py:83} INFO - 65536 bytes transferred out of 228604 total\n",
      "[2017-11-03 15:08:13,824] {s3.py:83} INFO - 98304 bytes transferred out of 228604 total\n",
      "[2017-11-03 15:08:13,827] {s3.py:83} INFO - 131072 bytes transferred out of 228604 total\n",
      "[2017-11-03 15:08:13,829] {s3.py:83} INFO - 163840 bytes transferred out of 228604 total\n",
      "[2017-11-03 15:08:13,831] {s3.py:83} INFO - 196608 bytes transferred out of 228604 total\n",
      "[2017-11-03 15:08:13,833] {s3.py:83} INFO - 228604 bytes transferred out of 228604 total\n"
     ]
    }
   ],
   "source": [
    "corpus = list(corpus)"
   ]
  },
  {
   "cell_type": "code",
   "execution_count": 18,
   "metadata": {
    "collapsed": true
   },
   "outputs": [],
   "source": [
    "min_wage = list(map(lambda c: c['baseSalary']['minValue'], corpus))"
   ]
  },
  {
   "cell_type": "code",
   "execution_count": 19,
   "metadata": {},
   "outputs": [
    {
     "data": {
      "text/plain": [
       "Counter({60000.0: 8,\n",
       "         65000.0: 10,\n",
       "         70000.0: 4,\n",
       "         71110: 1,\n",
       "         75000.0: 5,\n",
       "         80000.0: 10,\n",
       "         83221: 1,\n",
       "         85000.0: 1,\n",
       "         90000.0: 12,\n",
       "         100000.0: 2,\n",
       "         120000.0: 3,\n",
       "         160000.0: 1})"
      ]
     },
     "execution_count": 19,
     "metadata": {},
     "output_type": "execute_result"
    }
   ],
   "source": [
    "Counter(min_wage)"
   ]
  },
  {
   "cell_type": "markdown",
   "metadata": {},
   "source": [
    "# Sampling from Corpus"
   ]
  },
  {
   "cell_type": "markdown",
   "metadata": {},
   "source": [
    "## Sampling from simple corpus"
   ]
  },
  {
   "cell_type": "code",
   "execution_count": 20,
   "metadata": {
    "collapsed": true
   },
   "outputs": [],
   "source": [
    "job_postings_generator = job_postings_chain(s3_conn, ['2011Q2'], 'open-skills-private/test_corpus')\n",
    "corpus = CorpusCreator(job_postings_generator)"
   ]
  },
  {
   "cell_type": "code",
   "execution_count": 21,
   "metadata": {},
   "outputs": [
    {
     "name": "stdout",
     "output_type": "stream",
     "text": [
      "[2017-11-03 15:08:14,068] {job_postings.py:36} INFO - Extracting job postings from key test_corpus/2011Q2/\n",
      "[2017-11-03 15:08:14,133] {s3.py:83} INFO - 0 bytes transferred out of 0 total\n",
      "[2017-11-03 15:08:14,134] {job_postings.py:36} INFO - Extracting job postings from key test_corpus/2011Q2/CB_6874581a-5942-48fd-ba7e-2b1cdc38563f\n",
      "[2017-11-03 15:08:14,224] {s3.py:83} INFO - 0 bytes transferred out of 18588132 total\n",
      "[2017-11-03 15:08:14,610] {s3.py:83} INFO - 2072576 bytes transferred out of 18588132 total\n",
      "[2017-11-03 15:08:14,827] {s3.py:83} INFO - 4145152 bytes transferred out of 18588132 total\n",
      "[2017-11-03 15:08:14,998] {s3.py:83} INFO - 6217728 bytes transferred out of 18588132 total\n",
      "[2017-11-03 15:08:15,172] {s3.py:83} INFO - 8290304 bytes transferred out of 18588132 total\n",
      "[2017-11-03 15:08:15,351] {s3.py:83} INFO - 10362880 bytes transferred out of 18588132 total\n",
      "[2017-11-03 15:08:15,505] {s3.py:83} INFO - 12435456 bytes transferred out of 18588132 total\n",
      "[2017-11-03 15:08:15,665] {s3.py:83} INFO - 14508032 bytes transferred out of 18588132 total\n",
      "[2017-11-03 15:08:15,834] {s3.py:83} INFO - 16580608 bytes transferred out of 18588132 total\n",
      "[2017-11-03 15:08:15,995] {s3.py:83} INFO - 18588132 bytes transferred out of 18588132 total\n"
     ]
    },
    {
     "name": "stderr",
     "output_type": "stream",
     "text": [
      "/Users/Eddie/Documents/DSSG/WDI/skills-ml/venv/lib/python3.5/site-packages/bs4/__init__.py:219: UserWarning: \"b'.'\" looks like a filename, not markup. You should probably open this file and pass the filehandle into Beautiful Soup.\n",
      "  ' Beautiful Soup.' % markup)\n"
     ]
    },
    {
     "name": "stdout",
     "output_type": "stream",
     "text": [
      "[2017-11-03 15:08:21,113] {job_postings.py:36} INFO - Extracting job postings from key test_corpus/2011Q2/NLX_b8384025-fa09-417d-ae10-96880fac86be\n",
      "[2017-11-03 15:08:21,203] {s3.py:83} INFO - 0 bytes transferred out of 20171705 total\n",
      "[2017-11-03 15:08:21,828] {s3.py:83} INFO - 2244608 bytes transferred out of 20171705 total\n",
      "[2017-11-03 15:08:22,062] {s3.py:83} INFO - 4489216 bytes transferred out of 20171705 total\n",
      "[2017-11-03 15:08:22,274] {s3.py:83} INFO - 6733824 bytes transferred out of 20171705 total\n",
      "[2017-11-03 15:08:22,460] {s3.py:83} INFO - 8978432 bytes transferred out of 20171705 total\n",
      "[2017-11-03 15:08:22,713] {s3.py:83} INFO - 11223040 bytes transferred out of 20171705 total\n",
      "[2017-11-03 15:08:22,942] {s3.py:83} INFO - 13467648 bytes transferred out of 20171705 total\n",
      "[2017-11-03 15:08:23,126] {s3.py:83} INFO - 15712256 bytes transferred out of 20171705 total\n",
      "[2017-11-03 15:08:23,346] {s3.py:83} INFO - 17956864 bytes transferred out of 20171705 total\n",
      "[2017-11-03 15:08:23,532] {s3.py:83} INFO - 20171705 bytes transferred out of 20171705 total\n",
      "[2017-11-03 15:08:28,147] {job_postings.py:36} INFO - Extracting job postings from key test_corpus/2011Q2/VA_c3b9dad2-ef6c-4439-a4e7-6dff0a55d362\n",
      "[2017-11-03 15:08:28,249] {s3.py:83} INFO - 0 bytes transferred out of 228604 total\n",
      "[2017-11-03 15:08:28,356] {s3.py:83} INFO - 32768 bytes transferred out of 228604 total\n",
      "[2017-11-03 15:08:28,410] {s3.py:83} INFO - 65536 bytes transferred out of 228604 total\n",
      "[2017-11-03 15:08:28,516] {s3.py:83} INFO - 98304 bytes transferred out of 228604 total\n",
      "[2017-11-03 15:08:28,569] {s3.py:83} INFO - 131072 bytes transferred out of 228604 total\n",
      "[2017-11-03 15:08:28,622] {s3.py:83} INFO - 163840 bytes transferred out of 228604 total\n",
      "[2017-11-03 15:08:28,625] {s3.py:83} INFO - 196608 bytes transferred out of 228604 total\n",
      "[2017-11-03 15:08:28,678] {s3.py:83} INFO - 228604 bytes transferred out of 228604 total\n"
     ]
    }
   ],
   "source": [
    "from skills_ml.algorithms.sampling.jobs import JobSampler\n",
    "job_sampler = JobSampler(corpus, random_state=42)\n",
    "corpus = job_sampler.sample(100)"
   ]
  },
  {
   "cell_type": "code",
   "execution_count": 22,
   "metadata": {},
   "outputs": [
    {
     "data": {
      "text/plain": [
       "({'@context': 'http://schema.org',\n",
       "  '@type': 'JobPosting',\n",
       "  'alternateName': 'Customer Service Representative',\n",
       "  'baseSalary': {'@type': 'MonetaryAmount',\n",
       "   'maxValue': 11.0,\n",
       "   'minValue': 11.0},\n",
       "  'datePosted': '2011-08-25',\n",
       "  'description': 'We are currently looking for bilingual (Spanish- English) customer service representative. You need to be fluent in both languages, clerical experience, be customer service oriented and have a professional appearance. If you think you have great customer service skills, have a strong work ethic and want to be part of a great team please contact me',\n",
       "  'educationRequirements': 'Not Specified',\n",
       "  'employmentType': 'Full-Time',\n",
       "  'experienceRequirements': 'MINIMUM QUALIFICATIONS: High school diploma and some college coursework or equivalent Capable of solving a variety of customer service problems and supporting a range of personalities and customer types Bi-lingual: Spanish Ability to communicate effectively with others, orally and written',\n",
       "  'id': 'CB_-126168718',\n",
       "  'incentiveCompensation': '',\n",
       "  'industry': 'Consumer Products, Other, Food',\n",
       "  'jobLocation': {'@type': 'Place',\n",
       "   'address': {'@type': 'PostalAddress',\n",
       "    'addressLocality': 'Las Vegas',\n",
       "    'addressRegion': 'NV'}},\n",
       "  'occupationalCategory': '',\n",
       "  'onet_soc_code': None,\n",
       "  'qualifications': 'MINIMUM QUALIFICATIONS: High school diploma and some college coursework or equivalent Capable of solving a variety of customer service problems and supporting a range of personalities and customer types Bi-lingual: Spanish Ability to communicate effectively with others, orally and written',\n",
       "  'skills': 'Customer Service, Information Technology, Admin - Clerical',\n",
       "  'title': 'Bilingual Customer Service - Spanish',\n",
       "  'validThrough': '2012-07-18T00:00:00'},)"
      ]
     },
     "execution_count": 22,
     "metadata": {},
     "output_type": "execute_result"
    }
   ],
   "source": [
    "corpus[0]"
   ]
  },
  {
   "cell_type": "code",
   "execution_count": 23,
   "metadata": {
    "collapsed": true
   },
   "outputs": [],
   "source": [
    "industry = list(map(lambda c: c[0]['industry'], corpus))"
   ]
  },
  {
   "cell_type": "code",
   "execution_count": 24,
   "metadata": {},
   "outputs": [
    {
     "data": {
      "text/plain": [
       "Counter({'': 59,\n",
       "         'Advertising, Sales - Marketing, Hospitality': 1,\n",
       "         'Biotechnology, Pharmaceutical, Food': 1,\n",
       "         'Consulting, Sales - Marketing, Hospitality': 1,\n",
       "         'Consumer Products, Other, Food': 1,\n",
       "         'Consumer Products, Sales - Marketing, Food': 2,\n",
       "         'Education - Teaching - Administration, Social Services, Food': 1,\n",
       "         'Entertainment, Food, Hospitality': 1,\n",
       "         'Entertainment, Retail, Hospitality': 1,\n",
       "         'Hospitality, Restaurant, Food': 4,\n",
       "         'Not for Profit - Charitable, Healthcare - Health Services, Food': 1,\n",
       "         'Packaging, Manufacturing, Food': 1,\n",
       "         'Public Relations, Not for Profit - Charitable, Food': 1,\n",
       "         'Restaurant, Food, Hospitality': 7,\n",
       "         'Restaurant, Full Service Restaurant, Hospitality': 1,\n",
       "         'Restaurant, Managed Care, Hospitality': 1,\n",
       "         'Restaurant, Retail, Hospitality': 6,\n",
       "         'Retail, Restaurant, Food': 1,\n",
       "         'Sales - Marketing, Consulting, Hospitality': 1,\n",
       "         'Sales - Marketing, Consumer Products, Food': 1,\n",
       "         'Sales - Marketing, Retail, Food': 5,\n",
       "         'Transportation, Airline - Aviation, Hospitality': 1,\n",
       "         'Transportation, Travel, Hospitality': 1})"
      ]
     },
     "execution_count": 24,
     "metadata": {},
     "output_type": "execute_result"
    }
   ],
   "source": [
    "Counter(industry)"
   ]
  },
  {
   "cell_type": "markdown",
   "metadata": {},
   "source": [
    "## Sampling from filtered corpus"
   ]
  },
  {
   "cell_type": "markdown",
   "metadata": {},
   "source": [
    "### Reservoir Sampling"
   ]
  },
  {
   "cell_type": "code",
   "execution_count": 25,
   "metadata": {
    "collapsed": true
   },
   "outputs": [],
   "source": [
    "job_postings_generator = job_postings_chain(s3_conn, ['2011Q2'], 'open-skills-private/test_corpus')\n",
    "corpus = CorpusCreator(job_postings_generator, filter_func=major_group_filter_func)"
   ]
  },
  {
   "cell_type": "code",
   "execution_count": 26,
   "metadata": {},
   "outputs": [
    {
     "name": "stdout",
     "output_type": "stream",
     "text": [
      "[2017-11-03 15:08:28,971] {job_postings.py:36} INFO - Extracting job postings from key test_corpus/2011Q2/\n",
      "[2017-11-03 15:08:29,037] {s3.py:83} INFO - 0 bytes transferred out of 0 total\n",
      "[2017-11-03 15:08:29,039] {job_postings.py:36} INFO - Extracting job postings from key test_corpus/2011Q2/CB_6874581a-5942-48fd-ba7e-2b1cdc38563f\n",
      "[2017-11-03 15:08:29,124] {s3.py:83} INFO - 0 bytes transferred out of 18588132 total\n",
      "[2017-11-03 15:08:29,878] {s3.py:83} INFO - 2072576 bytes transferred out of 18588132 total\n",
      "[2017-11-03 15:08:30,191] {s3.py:83} INFO - 4145152 bytes transferred out of 18588132 total\n",
      "[2017-11-03 15:08:30,417] {s3.py:83} INFO - 6217728 bytes transferred out of 18588132 total\n",
      "[2017-11-03 15:08:30,631] {s3.py:83} INFO - 8290304 bytes transferred out of 18588132 total\n",
      "[2017-11-03 15:08:30,806] {s3.py:83} INFO - 10362880 bytes transferred out of 18588132 total\n",
      "[2017-11-03 15:08:30,998] {s3.py:83} INFO - 12435456 bytes transferred out of 18588132 total\n",
      "[2017-11-03 15:08:31,174] {s3.py:83} INFO - 14508032 bytes transferred out of 18588132 total\n",
      "[2017-11-03 15:08:31,346] {s3.py:83} INFO - 16580608 bytes transferred out of 18588132 total\n",
      "[2017-11-03 15:08:31,501] {s3.py:83} INFO - 18588132 bytes transferred out of 18588132 total\n",
      "[2017-11-03 15:08:31,800] {job_postings.py:36} INFO - Extracting job postings from key test_corpus/2011Q2/NLX_b8384025-fa09-417d-ae10-96880fac86be\n"
     ]
    },
    {
     "name": "stderr",
     "output_type": "stream",
     "text": [
      "/Users/Eddie/Documents/DSSG/WDI/skills-ml/venv/lib/python3.5/site-packages/bs4/__init__.py:219: UserWarning: \"b'.'\" looks like a filename, not markup. You should probably open this file and pass the filehandle into Beautiful Soup.\n",
      "  ' Beautiful Soup.' % markup)\n"
     ]
    },
    {
     "name": "stdout",
     "output_type": "stream",
     "text": [
      "[2017-11-03 15:08:31,894] {s3.py:83} INFO - 0 bytes transferred out of 20171705 total\n",
      "[2017-11-03 15:08:32,158] {s3.py:83} INFO - 2244608 bytes transferred out of 20171705 total\n",
      "[2017-11-03 15:08:32,454] {s3.py:83} INFO - 4489216 bytes transferred out of 20171705 total\n",
      "[2017-11-03 15:08:32,651] {s3.py:83} INFO - 6733824 bytes transferred out of 20171705 total\n",
      "[2017-11-03 15:08:32,887] {s3.py:83} INFO - 8978432 bytes transferred out of 20171705 total\n",
      "[2017-11-03 15:08:33,059] {s3.py:83} INFO - 11223040 bytes transferred out of 20171705 total\n",
      "[2017-11-03 15:08:33,239] {s3.py:83} INFO - 13467648 bytes transferred out of 20171705 total\n",
      "[2017-11-03 15:08:33,431] {s3.py:83} INFO - 15712256 bytes transferred out of 20171705 total\n",
      "[2017-11-03 15:08:33,641] {s3.py:83} INFO - 17956864 bytes transferred out of 20171705 total\n",
      "[2017-11-03 15:08:33,820] {s3.py:83} INFO - 20171705 bytes transferred out of 20171705 total\n",
      "[2017-11-03 15:08:34,261] {job_postings.py:36} INFO - Extracting job postings from key test_corpus/2011Q2/VA_c3b9dad2-ef6c-4439-a4e7-6dff0a55d362\n",
      "[2017-11-03 15:08:34,418] {s3.py:83} INFO - 0 bytes transferred out of 228604 total\n",
      "[2017-11-03 15:08:34,421] {s3.py:83} INFO - 32768 bytes transferred out of 228604 total\n",
      "[2017-11-03 15:08:34,422] {s3.py:83} INFO - 65536 bytes transferred out of 228604 total\n",
      "[2017-11-03 15:08:34,424] {s3.py:83} INFO - 98304 bytes transferred out of 228604 total\n",
      "[2017-11-03 15:08:34,427] {s3.py:83} INFO - 131072 bytes transferred out of 228604 total\n",
      "[2017-11-03 15:08:34,429] {s3.py:83} INFO - 163840 bytes transferred out of 228604 total\n",
      "[2017-11-03 15:08:34,434] {s3.py:83} INFO - 196608 bytes transferred out of 228604 total\n",
      "[2017-11-03 15:08:34,436] {s3.py:83} INFO - 228604 bytes transferred out of 228604 total\n"
     ]
    }
   ],
   "source": [
    "job_sampler = JobSampler(corpus, random_state=42)\n",
    "corpus = job_sampler.sample(100)"
   ]
  },
  {
   "cell_type": "code",
   "execution_count": 27,
   "metadata": {
    "collapsed": true
   },
   "outputs": [],
   "source": [
    "onet_soc_code = list(map(lambda c: c[0]['onet_soc_code'][:2], corpus))"
   ]
  },
  {
   "cell_type": "code",
   "execution_count": 28,
   "metadata": {},
   "outputs": [
    {
     "data": {
      "text/plain": [
       "Counter({'11': 78, '13': 22})"
      ]
     },
     "execution_count": 28,
     "metadata": {},
     "output_type": "execute_result"
    }
   ],
   "source": [
    "Counter(onet_soc_code)"
   ]
  },
  {
   "cell_type": "markdown",
   "metadata": {},
   "source": [
    "### Weighted Reservoir Sampling"
   ]
  },
  {
   "cell_type": "code",
   "execution_count": 29,
   "metadata": {
    "collapsed": true
   },
   "outputs": [],
   "source": [
    "job_postings_generator = job_postings_chain(s3_conn, ['2011Q2'], 'open-skills-private/test_corpus')\n",
    "corpus = CorpusCreator(job_postings_generator, filter_func=major_group_filter_func)"
   ]
  },
  {
   "cell_type": "code",
   "execution_count": 30,
   "metadata": {},
   "outputs": [
    {
     "name": "stdout",
     "output_type": "stream",
     "text": [
      "[2017-11-03 15:08:34,665] {job_postings.py:36} INFO - Extracting job postings from key test_corpus/2011Q2/\n",
      "[2017-11-03 15:08:34,737] {s3.py:83} INFO - 0 bytes transferred out of 0 total\n",
      "[2017-11-03 15:08:34,738] {job_postings.py:36} INFO - Extracting job postings from key test_corpus/2011Q2/CB_6874581a-5942-48fd-ba7e-2b1cdc38563f\n",
      "[2017-11-03 15:08:34,806] {s3.py:83} INFO - 0 bytes transferred out of 18588132 total\n",
      "[2017-11-03 15:08:35,462] {s3.py:83} INFO - 2072576 bytes transferred out of 18588132 total\n",
      "[2017-11-03 15:08:35,694] {s3.py:83} INFO - 4145152 bytes transferred out of 18588132 total\n",
      "[2017-11-03 15:08:35,906] {s3.py:83} INFO - 6217728 bytes transferred out of 18588132 total\n",
      "[2017-11-03 15:08:36,179] {s3.py:83} INFO - 8290304 bytes transferred out of 18588132 total\n",
      "[2017-11-03 15:08:36,354] {s3.py:83} INFO - 10362880 bytes transferred out of 18588132 total\n",
      "[2017-11-03 15:08:36,548] {s3.py:83} INFO - 12435456 bytes transferred out of 18588132 total\n",
      "[2017-11-03 15:08:36,745] {s3.py:83} INFO - 14508032 bytes transferred out of 18588132 total\n",
      "[2017-11-03 15:08:36,957] {s3.py:83} INFO - 16580608 bytes transferred out of 18588132 total\n",
      "[2017-11-03 15:08:37,173] {s3.py:83} INFO - 18588132 bytes transferred out of 18588132 total\n",
      "[2017-11-03 15:08:37,497] {job_postings.py:36} INFO - Extracting job postings from key test_corpus/2011Q2/NLX_b8384025-fa09-417d-ae10-96880fac86be\n"
     ]
    },
    {
     "name": "stderr",
     "output_type": "stream",
     "text": [
      "/Users/Eddie/Documents/DSSG/WDI/skills-ml/venv/lib/python3.5/site-packages/bs4/__init__.py:219: UserWarning: \"b'.'\" looks like a filename, not markup. You should probably open this file and pass the filehandle into Beautiful Soup.\n",
      "  ' Beautiful Soup.' % markup)\n"
     ]
    },
    {
     "name": "stdout",
     "output_type": "stream",
     "text": [
      "[2017-11-03 15:08:37,568] {s3.py:83} INFO - 0 bytes transferred out of 20171705 total\n",
      "[2017-11-03 15:08:37,853] {s3.py:83} INFO - 2244608 bytes transferred out of 20171705 total\n",
      "[2017-11-03 15:08:38,043] {s3.py:83} INFO - 4489216 bytes transferred out of 20171705 total\n",
      "[2017-11-03 15:08:38,230] {s3.py:83} INFO - 6733824 bytes transferred out of 20171705 total\n",
      "[2017-11-03 15:08:38,408] {s3.py:83} INFO - 8978432 bytes transferred out of 20171705 total\n",
      "[2017-11-03 15:08:38,586] {s3.py:83} INFO - 11223040 bytes transferred out of 20171705 total\n",
      "[2017-11-03 15:08:38,780] {s3.py:83} INFO - 13467648 bytes transferred out of 20171705 total\n",
      "[2017-11-03 15:08:38,943] {s3.py:83} INFO - 15712256 bytes transferred out of 20171705 total\n",
      "[2017-11-03 15:08:39,113] {s3.py:83} INFO - 17956864 bytes transferred out of 20171705 total\n",
      "[2017-11-03 15:08:39,296] {s3.py:83} INFO - 20171705 bytes transferred out of 20171705 total\n",
      "[2017-11-03 15:08:39,744] {job_postings.py:36} INFO - Extracting job postings from key test_corpus/2011Q2/VA_c3b9dad2-ef6c-4439-a4e7-6dff0a55d362\n",
      "[2017-11-03 15:08:39,811] {s3.py:83} INFO - 0 bytes transferred out of 228604 total\n",
      "[2017-11-03 15:08:39,813] {s3.py:83} INFO - 32768 bytes transferred out of 228604 total\n",
      "[2017-11-03 15:08:39,816] {s3.py:83} INFO - 65536 bytes transferred out of 228604 total\n",
      "[2017-11-03 15:08:39,818] {s3.py:83} INFO - 98304 bytes transferred out of 228604 total\n",
      "[2017-11-03 15:08:39,820] {s3.py:83} INFO - 131072 bytes transferred out of 228604 total\n",
      "[2017-11-03 15:08:39,822] {s3.py:83} INFO - 163840 bytes transferred out of 228604 total\n",
      "[2017-11-03 15:08:39,824] {s3.py:83} INFO - 196608 bytes transferred out of 228604 total\n",
      "[2017-11-03 15:08:39,826] {s3.py:83} INFO - 228604 bytes transferred out of 228604 total\n"
     ]
    }
   ],
   "source": [
    "job_sampler = JobSampler(corpus, major_group=True,weights={'11': 1, '13': 3.5})\n",
    "sampled_corpus = job_sampler.sample(50)"
   ]
  },
  {
   "cell_type": "code",
   "execution_count": 31,
   "metadata": {
    "collapsed": true
   },
   "outputs": [],
   "source": [
    "major_group = list(map(lambda c: c[1][:2], sampled_corpus))"
   ]
  },
  {
   "cell_type": "code",
   "execution_count": 32,
   "metadata": {},
   "outputs": [
    {
     "data": {
      "text/plain": [
       "Counter({'11': 23, '13': 27})"
      ]
     },
     "execution_count": 32,
     "metadata": {},
     "output_type": "execute_result"
    }
   ],
   "source": [
    "Counter(major_group)"
   ]
  },
  {
   "cell_type": "code",
   "execution_count": 33,
   "metadata": {},
   "outputs": [
    {
     "data": {
      "text/plain": [
       "({'@context': 'http://schema.org',\n",
       "  '@type': 'JobPosting',\n",
       "  'baseSalary': {'@type': 'MonetaryAmount', 'maxValue': '', 'minValue': ''},\n",
       "  'datePosted': '2011-01-19',\n",
       "  'description': 'Regional Staff Accountant Tracking Code 6466 Job Description Make your mark in Broadcasting and Digital Media. Sinclair Broadcast Group and Sinclair Digital Solutions are dedicated to making Sinclair a communications powerhouse! We are the largest and most diversified television broadcasting company in the country today. Sinclair owns and operates, programs or provides services to 162 stations located in 79 geographically diverse markets and our Digital group is focused on bringing the most engaging content to web, mobile and over-the-top broadcasting to audiences all over the country! Our success is the result of extraordinary employees and an exemplary management team who believe in a vision and are dedicated ensuring a great future for our employees. Whether you are an industry veteran or a just starting out, you can find it at Sinclair! We are advancing the world of Broadcasting and we want YOU to join our winning team! We are seeking a Regional Staff Accountant for our Business Operations hub, located in Portland, OR. The Regional Staff Accountant will report to the Regional Controller. Main duties will include supporting the business departments of assigned markets in the following areas: Job Duties: + Preparation of month end close, including financial statements and general ledger + Reconciliation of general ledger accounts + Fixed asset management + Budgeting and forecasting + Variance analysis + Human resources and payroll + Accounts receivable and credit management Requirements include: + Ability to work well in a fast-paced team environment + Ability to manage multiple tasks + High attention to detail + Strong accounting and analytical skills + Ability to meet multiple deadlines + Knowledge of SOX compliance + Proficiency in Microsoft Office products, especially Excel + Oracle experience preferred + Television broadcasting or media experience preferred + High attention to detail + Strong accounting and analytical skills + Ability to meet multiple deadlines Experience: + Knowledge of SOX compliance + Proficiency in Microsoft Office products, especially Excel Sinclair Broadcast Group, Inc. is proud to be an Equal Opportunity Employer and Drug Free Workplace! Job Location Portland, Oregon, United States Company Location KATU/KUNP Position Type Full-Time/Regular',\n",
       "  'educationRequirements': '',\n",
       "  'experienceRequirements': '',\n",
       "  'id': 'NLX_20797533',\n",
       "  'industry': '',\n",
       "  'jobLocation': {'@type': 'Place',\n",
       "   'address': {'@type': 'PostalAddress',\n",
       "    'addressLocality': 'Portland',\n",
       "    'addressRegion': 'OR'}},\n",
       "  'numPositions': '',\n",
       "  'onet_soc_code': '13-2011.01',\n",
       "  'qualifications': '',\n",
       "  'skills': '',\n",
       "  'title': 'Regional Staff Accountant'},\n",
       " '13')"
      ]
     },
     "execution_count": 33,
     "metadata": {},
     "output_type": "execute_result"
    }
   ],
   "source": [
    "sampled_corpus[0]"
   ]
  },
  {
   "cell_type": "code",
   "execution_count": null,
   "metadata": {
    "collapsed": true
   },
   "outputs": [],
   "source": []
  }
 ],
 "metadata": {
  "kernelspec": {
   "display_name": "Python 3",
   "language": "python",
   "name": "python3"
  },
  "language_info": {
   "codemirror_mode": {
    "name": "ipython",
    "version": 3
   },
   "file_extension": ".py",
   "mimetype": "text/x-python",
   "name": "python",
   "nbconvert_exporter": "python",
   "pygments_lexer": "ipython3",
   "version": "3.5.2"
  }
 },
 "nbformat": 4,
 "nbformat_minor": 2
}
